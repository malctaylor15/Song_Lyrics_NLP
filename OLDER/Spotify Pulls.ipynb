{
 "cells": [
  {
   "cell_type": "code",
   "execution_count": null,
   "metadata": {
    "collapsed": true
   },
   "outputs": [],
   "source": [
    "import os\n",
    "from os import environ\n",
    "import subprocess\n",
    "import sys\n",
    "from pprint import pprint as pp\n",
    "import spotipy\n",
    "import spotipy.util as util\n",
    "from wordcloud import WordCloud\n",
    "# Set environment variables \n",
    "os.environ['SPOTIPY_CLIENT_ID'] = \"d3c68e4eb95942fb9a0ceb508d62c127\"\n",
    "os.environ['SPOTIPY_CLIENT_SECRET'] = \"bab6935eaa2f478ea4c47a6c8a96eec8\"\n",
    "os.environ['SPOTIPY_REDIRECT_URI'] = \"http://localhost/\""
   ]
  },
  {
   "cell_type": "code",
   "execution_count": null,
   "metadata": {
    "collapsed": false
   },
   "outputs": [],
   "source": [
    "import gensim\n",
    "import re "
   ]
  },
  {
   "cell_type": "raw",
   "metadata": {},
   "source": [
    "articles_tokens=[]\n",
    "for i in range(len(df[\"text\"])):\n",
    "    articles_tokens.append([word for word in word_tokenize(str(df[\"text\"][i].lower())) if len(word)>2])\n",
    "    model = gensim.models.Word2Vec(articles_tokens, min_count=5,size=100,workers=4)\n",
    "model.wv.most_similar(\"lula\")\n",
    "\n",
    "\n",
    "    "
   ]
  },
  {
   "cell_type": "markdown",
   "metadata": {
    "collapsed": true
   },
   "source": [
    "## Functions"
   ]
  },
  {
   "cell_type": "code",
   "execution_count": null,
   "metadata": {
    "collapsed": true
   },
   "outputs": [],
   "source": [
    "def get_tracklist(tracklist_id, username):\n",
    "    kittens = {}\n",
    "    results = sp.user_playlist(username, tracklist_id, fields=\"tracks\")\n",
    "    tracks = results['tracks']\n",
    "    for i, item in enumerate(tracks['items']):\n",
    "        track = item['track']\n",
    "        trackName = track['name'] \n",
    "        trackArtist = track['artists'][0]['name']\n",
    "        kittens[trackName] = trackArtist\n",
    "    pp(kittens)\n",
    "    return kittens"
   ]
  },
  {
   "cell_type": "code",
   "execution_count": null,
   "metadata": {
    "collapsed": false,
    "scrolled": true
   },
   "outputs": [],
   "source": [
    "def get_user_playlists_2(username):\n",
    "    all_playlist_info = [[playlist[\"name\"], playlist['tracks']['total'], playlist['id']] \n",
    "                         for playlist in playlists['items'] \n",
    "                         if playlist['owner']['id'] == username]\n",
    "    return(all_playlist_info)"
   ]
  },
  {
   "cell_type": "code",
   "execution_count": null,
   "metadata": {
    "collapsed": false,
    "scrolled": true
   },
   "outputs": [],
   "source": [
    "def get_user_playlists(username): \n",
    "    \n",
    "    for playlist in playlists['items']:\n",
    "        if playlist['owner']['id'] == username:\n",
    "            print()\n",
    "            print(playlist['name'])\n",
    "            print('  total tracks', playlist['tracks']['total'])\n",
    "            results = sp.user_playlist(username, playlist['id'],\n",
    "                fields=\"tracks,next\")\n",
    "            tracks = results['tracks']"
   ]
  },
  {
   "cell_type": "markdown",
   "metadata": {},
   "source": [
    "## Let's get it running "
   ]
  },
  {
   "cell_type": "code",
   "execution_count": null,
   "metadata": {
    "collapsed": false
   },
   "outputs": [],
   "source": [
    "username = '1282829978'  \n",
    "scope = 'user-library-read playlist-read-private user-top-read'\n",
    "token = util.prompt_for_user_token(username,scope)\n",
    "sp = spotipy.Spotify(auth=token)\n",
    "playlists = sp.user_playlists(username)"
   ]
  },
  {
   "cell_type": "code",
   "execution_count": null,
   "metadata": {
    "collapsed": false,
    "scrolled": true
   },
   "outputs": [],
   "source": [
    "playlists_info = get_user_playlists_2(username)\n",
    "playlist_index = 2\n",
    "tracklist = get_tracklist(playlists_info[2][playlist_index], username)"
   ]
  },
  {
   "cell_type": "code",
   "execution_count": null,
   "metadata": {
    "collapsed": false
   },
   "outputs": [],
   "source": [
    "playlists_info"
   ]
  },
  {
   "cell_type": "code",
   "execution_count": null,
   "metadata": {
    "collapsed": false
   },
   "outputs": [],
   "source": [
    "# The location of genius API_MT\n",
    "sys.path.append('/Users/board/Desktop/Kaggle/Song_Lyrics_NLP')\n",
    "from genius_api import *\n",
    "#from genius_api import *"
   ]
  },
  {
   "cell_type": "code",
   "execution_count": null,
   "metadata": {
    "collapsed": false
   },
   "outputs": [],
   "source": [
    "lyrics_dict = {}\n",
    "for song_name, artist in tracklist.items():\n",
    "    lyrics_dict[song_name] = get_song_lyrics(artist_name=artist, song_title=song_name, headers=headers)"
   ]
  },
  {
   "cell_type": "code",
   "execution_count": null,
   "metadata": {
    "collapsed": false,
    "scrolled": true
   },
   "outputs": [],
   "source": [
    "lyrics_dict"
   ]
  },
  {
   "cell_type": "code",
   "execution_count": null,
   "metadata": {
    "collapsed": true
   },
   "outputs": [],
   "source": [
    "class song: \n",
    "    def __init__(self, title, artist):\n",
    "        self.title = title\n",
    "        self.artist = artist\n",
    "        self.lyrics = get_song_lyrics(self.artist, self.title, headers = headers)\n",
    "        self.wc = WordCloud().generate(self.lyrics)\n",
    "    def showWordCloud(self)\n",
    "        self.wc.to_image().show()\n"
   ]
  },
  {
   "cell_type": "code",
   "execution_count": null,
   "metadata": {
    "collapsed": false
   },
   "outputs": [],
   "source": [
    "class playlist:\n",
    "    def __init__(self, playlist_name, list_of_songs):\n",
    "        self.playlist_name = playlist_name\n",
    "        self.list_of_songs = songs\n",
    "\n",
    "        \n",
    "    "
   ]
  },
  {
   "cell_type": "code",
   "execution_count": null,
   "metadata": {
    "collapsed": false
   },
   "outputs": [],
   "source": [
    "inst1 = song('Just What I Am', 'Kid Cudi' )"
   ]
  },
  {
   "cell_type": "code",
   "execution_count": null,
   "metadata": {
    "collapsed": false
   },
   "outputs": [],
   "source": [
    "inst1.wc.show()"
   ]
  },
  {
   "cell_type": "code",
   "execution_count": null,
   "metadata": {
    "collapsed": true
   },
   "outputs": [],
   "source": [
    "inst1.wc."
   ]
  },
  {
   "cell_type": "code",
   "execution_count": null,
   "metadata": {
    "collapsed": false
   },
   "outputs": [],
   "source": [
    "image = wc.to_image()"
   ]
  },
  {
   "cell_type": "code",
   "execution_count": null,
   "metadata": {
    "collapsed": false
   },
   "outputs": [],
   "source": [
    "image.show()"
   ]
  },
  {
   "cell_type": "code",
   "execution_count": null,
   "metadata": {
    "collapsed": false
   },
   "outputs": [],
   "source": [
    "# results = sp.user_playlist(username, playlist['id'], fields=\"tracks\")\n",
    "\n",
    "# Track name \n",
    "# results[\"tracks\"][\"items\"][0][\"track\"][\"name\"]\n",
    "\n",
    "# Artist \n",
    "# results[\"tracks\"][\"items\"][0][\"track\"][\"artists\"][0][\"name\"]"
   ]
  },
  {
   "cell_type": "code",
   "execution_count": null,
   "metadata": {
    "collapsed": true
   },
   "outputs": [],
   "source": [
    "def get_tracks(username):\n",
    "    #from spotipy.oauth2 import SpotifyClientCredentials\n",
    "    #import sys\n",
    "    \n",
    "    '''\n",
    "    export SPOTIPY_CLIENT_ID='d3c68e4eb95942fb9a0ceb508d62c127'\n",
    "    export SPOTIPY_CLIENT_SECRET='bab6935eaa2f478ea4c47a6c8a96eec8'\n",
    "    export SPOTIPY_REDIRECT_URI='http://localhost/' '''\n",
    "\n",
    "    #client_credentials_manager = SpotifyClientCredentials('d3c68e4eb95942fb9a0ceb508d62c127','bab6935eaa2f478ea4c47a6c8a96eec8')\n",
    "    #sp = spotipy.Spotify(client_credentials_manager=client_credentials_manager)\n",
    "    scope = 'user-library-read playlist-read-private user-top-read'\n",
    "    #username = '1282829978'\n",
    "    \n",
    "    \n",
    "\n",
    "    '''if len(sys.argv) > 1:\n",
    "        username = sys.argv[1]\n",
    "    else:\n",
    "        print(\"Usage: %s username\" % (sys.argv[0],))\n",
    "        sys.exit()'''\n",
    "    token = util.prompt_for_user_token(username,scope)\n",
    "    #client_id='d3c68e4eb95942fb9a0ceb508d62c127',client_secret='bab6935eaa2f478ea4c47a6c8a96eec8',redirect_uri='http://localhost/')\n",
    "    "
   ]
  },
  {
   "cell_type": "code",
   "execution_count": null,
   "metadata": {
    "collapsed": true
   },
   "outputs": [],
   "source": [
    "    if token:\n",
    "        sp = spotipy.Spotify(auth=token)\n",
    "        playlists = sp.user_playlists(username)\n",
    "        for playlist in playlists['items']:\n",
    "            if playlist['owner']['id'] == username:\n",
    "                print()\n",
    "                print(playlist['name'])\n",
    "                print('  total tracks', playlist['tracks']['total'])\n",
    "                results = sp.user_playlist(username, playlist['id'],\n",
    "                    fields=\"tracks,next\")\n",
    "                tracks = results['tracks']\n",
    "                tracksDict = show_tracks(tracks)\n",
    "                while tracks['next']:\n",
    "                    tracks = sp.next(tracks)\n",
    "                    show_tracks(tracks)\n",
    "    else:\n",
    "        print(\"Can't get token for\", username)\n",
    "    #sp = spotipy.Spotify()\n",
    "    return tracksDict\n",
    "    '''playlists = sp.user_playlists('spotify')\n",
    "    while playlists:\n",
    "        for i, playlist in enumerate(playlists['items']):\n",
    "            print(\"%4d %s %s\" % (i + 1 + playlists['offset'], playlist['uri'],  playlist['name']))\n",
    "        if playlists['next']:\n",
    "            playlists = sp.next(playlists)\n",
    "        else:\n",
    "            playlists = None\n",
    "    \n",
    "    results = sp.search(q='weezer', limit=20)\n",
    "    for i, t in enumerate(results['tracks']['items']):\n",
    "        print(' ', i, t['name'])'''\n",
    "        \n",
    "        "
   ]
  },
  {
   "cell_type": "code",
   "execution_count": null,
   "metadata": {
    "collapsed": false
   },
   "outputs": [],
   "source": [
    "    if token:\n",
    "        sp = spotipy.Spotify(auth=token)\n",
    "        playlists = sp.user_playlists(username)\n",
    "        for playlist in playlists['items']:\n",
    "            if playlist['owner']['id'] == username:\n",
    "                print()\n",
    "                print(playlist['name'])\n",
    "                print('  total tracks', playlist['tracks']['total'])\n",
    "                results = sp.user_playlist(username, playlist['id'],\n",
    "                    fields=\"tracks,next\")\n",
    "                tracks = results['tracks']\n",
    "                tracksDict = show_tracks(tracks)\n",
    "                while tracks['next']:\n",
    "                    tracks = sp.next(tracks)\n",
    "                    show_tracks(tracks)\n",
    "    else:\n",
    "        print(\"Can't get token for\", username)\n",
    "    #sp = spotipy.Spotify()\n",
    "    '''playlists = sp.user_playlists('spotify')\n",
    "    while playlists:\n",
    "        for i, playlist in enumerate(playlists['items']):\n",
    "            print(\"%4d %s %s\" % (i + 1 + playlists['offset'], playlist['uri'],  playlist['name']))\n",
    "        if playlists['next']:\n",
    "            playlists = sp.next(playlists)\n",
    "        else:\n",
    "            playlists = None\n",
    "    \n",
    "    results = sp.search(q='weezer', limit=20)\n",
    "    for i, t in enumerate(results['tracks']['items']):\n",
    "        print(' ', i, t['name'])'''\n",
    "        \n",
    "        \n",
    "#tracksDict = get_tracks('174829003346')"
   ]
  },
  {
   "cell_type": "code",
   "execution_count": null,
   "metadata": {
    "collapsed": false
   },
   "outputs": [],
   "source": [
    "    #from spotipy.oauth2 import SpotifyClientCredentials\n",
    "    #import sys\n",
    "username = '174829003346'  \n",
    "    '''\n",
    "    export SPOTIPY_CLIENT_ID='d3c68e4eb95942fb9a0ceb508d62c127'\n",
    "    export SPOTIPY_CLIENT_SECRET='bab6935eaa2f478ea4c47a6c8a96eec8'\n",
    "    export SPOTIPY_REDIRECT_URI='http://localhost/' '''\n",
    "\n",
    "    #client_credentials_manager = SpotifyClientCredentials('d3c68e4eb95942fb9a0ceb508d62c127','bab6935eaa2f478ea4c47a6c8a96eec8')\n",
    "    #sp = spotipy.Spotify(client_credentials_manager=client_credentials_manager)\n",
    "    scope = 'user-library-read playlist-read-private user-top-read'\n",
    "    #username = '1282829978'\n",
    "    \n",
    "    \n",
    "\n",
    "    '''if len(sys.argv) > 1:\n",
    "        username = sys.argv[1]\n",
    "    else:\n",
    "        print(\"Usage: %s username\" % (sys.argv[0],))\n",
    "        sys.exit()'''\n",
    "    token = util.prompt_for_user_token(username,scope)#client_id='d3c68e4eb95942fb9a0ceb508d62c127',client_secret='bab6935eaa2f478ea4c47a6c8a96eec8',redirect_uri='http://localhost/')\n",
    "    "
   ]
  }
 ],
 "metadata": {
  "anaconda-cloud": {},
  "kernelspec": {
   "display_name": "Python [Root]",
   "language": "python",
   "name": "Python [Root]"
  },
  "language_info": {
   "codemirror_mode": {
    "name": "ipython",
    "version": 3
   },
   "file_extension": ".py",
   "mimetype": "text/x-python",
   "name": "python",
   "nbconvert_exporter": "python",
   "pygments_lexer": "ipython3",
   "version": "3.5.2"
  }
 },
 "nbformat": 4,
 "nbformat_minor": 0
}
