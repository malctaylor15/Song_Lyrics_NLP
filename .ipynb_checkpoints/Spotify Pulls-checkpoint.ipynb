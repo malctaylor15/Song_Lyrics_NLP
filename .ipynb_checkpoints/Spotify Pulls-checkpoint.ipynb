{
 "cells": [
  {
   "cell_type": "code",
   "execution_count": 21,
   "metadata": {
    "collapsed": true
   },
   "outputs": [],
   "source": [
    "import os\n",
    "from os import environ\n",
    "import subprocess\n",
    "import sys\n",
    "from pprint import pprint as pp\n",
    "import spotipy\n",
    "import spotipy.util as util\n",
    "from wordcloud import WordCloud\n",
    "# Set environment variables \n",
    "os.environ['SPOTIPY_CLIENT_ID'] = \"d3c68e4eb95942fb9a0ceb508d62c127\"\n",
    "os.environ['SPOTIPY_CLIENT_SECRET'] = \"bab6935eaa2f478ea4c47a6c8a96eec8\"\n",
    "os.environ['SPOTIPY_REDIRECT_URI'] = \"http://localhost/\""
   ]
  },
  {
   "cell_type": "code",
   "execution_count": 37,
   "metadata": {
    "collapsed": false
   },
   "outputs": [
    {
     "name": "stderr",
     "output_type": "stream",
     "text": [
      "C:\\Users\\board\\Anaconda3\\lib\\site-packages\\gensim\\utils.py:860: UserWarning: detected Windows; aliasing chunkize to chunkize_serial\n",
      "  warnings.warn(\"detected Windows; aliasing chunkize to chunkize_serial\")\n"
     ]
    }
   ],
   "source": [
    "import gensim\n",
    "import re "
   ]
  },
  {
   "cell_type": "raw",
   "metadata": {},
   "source": [
    "articles_tokens=[]\n",
    "for i in range(len(df[\"text\"])):\n",
    "    articles_tokens.append([word for word in word_tokenize(str(df[\"text\"][i].lower())) if len(word)>2])\n",
    "    model = gensim.models.Word2Vec(articles_tokens, min_count=5,size=100,workers=4)\n",
    "model.wv.most_similar(\"lula\")\n",
    "\n",
    "\n",
    "    "
   ]
  },
  {
   "cell_type": "markdown",
   "metadata": {
    "collapsed": true
   },
   "source": [
    "## Functions"
   ]
  },
  {
   "cell_type": "code",
   "execution_count": 2,
   "metadata": {
    "collapsed": true
   },
   "outputs": [],
   "source": [
    "def get_tracklist(tracklist_id, username):\n",
    "    kittens = {}\n",
    "    results = sp.user_playlist(username, tracklist_id, fields=\"tracks\")\n",
    "    tracks = results['tracks']\n",
    "    for i, item in enumerate(tracks['items']):\n",
    "        track = item['track']\n",
    "        trackName = track['name'] \n",
    "        trackArtist = track['artists'][0]['name']\n",
    "        kittens[trackName] = trackArtist\n",
    "    pp(kittens)\n",
    "    return kittens"
   ]
  },
  {
   "cell_type": "code",
   "execution_count": 3,
   "metadata": {
    "collapsed": false,
    "scrolled": true
   },
   "outputs": [],
   "source": [
    "def get_user_playlists_2(username):\n",
    "    all_playlist_info = [[playlist[\"name\"], playlist['tracks']['total'], playlist['id']] \n",
    "                         for playlist in playlists['items'] \n",
    "                         if playlist['owner']['id'] == username]\n",
    "    return(all_playlist_info)"
   ]
  },
  {
   "cell_type": "code",
   "execution_count": 4,
   "metadata": {
    "collapsed": false,
    "scrolled": true
   },
   "outputs": [],
   "source": [
    "def get_user_playlists(username): \n",
    "    \n",
    "    for playlist in playlists['items']:\n",
    "        if playlist['owner']['id'] == username:\n",
    "            print()\n",
    "            print(playlist['name'])\n",
    "            print('  total tracks', playlist['tracks']['total'])\n",
    "            results = sp.user_playlist(username, playlist['id'],\n",
    "                fields=\"tracks,next\")\n",
    "            tracks = results['tracks']"
   ]
  },
  {
   "cell_type": "markdown",
   "metadata": {},
   "source": [
    "## Let's get it running "
   ]
  },
  {
   "cell_type": "code",
   "execution_count": 5,
   "metadata": {
    "collapsed": false
   },
   "outputs": [],
   "source": [
    "username = '1282829978'  \n",
    "scope = 'user-library-read playlist-read-private user-top-read'\n",
    "token = util.prompt_for_user_token(username,scope)\n",
    "sp = spotipy.Spotify(auth=token)\n",
    "playlists = sp.user_playlists(username)"
   ]
  },
  {
   "cell_type": "code",
   "execution_count": 6,
   "metadata": {
    "collapsed": false,
    "scrolled": true
   },
   "outputs": [
    {
     "name": "stdout",
     "output_type": "stream",
     "text": [
      "{\"F**kin' Problems\": 'A$AP Rocky',\n",
      " \"It's A Vibe\": '2 Chainz',\n",
      " 'Just What I Am': 'Kid Cudi',\n",
      " 'Soundtrack 2 My Life': 'Kid Cudi'}\n"
     ]
    }
   ],
   "source": [
    "playlists_info = get_user_playlists_2(username)\n",
    "playlist_index = 2\n",
    "tracklist = get_tracklist(playlists_info[2][playlist_index], username)"
   ]
  },
  {
   "cell_type": "code",
   "execution_count": 7,
   "metadata": {
    "collapsed": false
   },
   "outputs": [
    {
     "data": {
      "text/plain": [
       "[['Hip Hop Enjoyed', 1, '15EwXIZ3Yxe4RyNqEd5Sm8'],\n",
       " ['Kendrick Artist Explorer', 50, '6XxrsBwoVElmDVxrPVcMrB'],\n",
       " ['Saved Tracks from Artist Explorer', 4, '3yjEdJL4ORXDjw4EArG7LL'],\n",
       " ['Emotion', 2, '2qowNj9W8hPQtjEe7LLrSd'],\n",
       " ['Artist Explorer', 50, '1jyeYhHW92sI4gG02FLBE6'],\n",
       " ['Spotify.Me sorted by decreasing danceability',\n",
       "  20,\n",
       "  '3gEWVOLMxkEcmmQiVSGP2u'],\n",
       " ['Spotify.Me', 20, '1Afc4lXAz5YU4JjbNgNdlt'],\n",
       " ['Spotify.Me', 20, '6vpeJmUvrqw31oChhCzIgt'],\n",
       " ['Mood Boost', 16, '17LEuu5OoxjOe7fAsBPLis'],\n",
       " ['SoundHound', 6, '4yRhoYm3FMXV4cAnq3e6Lq'],\n",
       " ['Quite Enjoyable', 67, '0W2rPQi38TIfTSE2mQql17'],\n",
       " ['Bumpin Those', 14, '28VcBYkTJAcpE6jcTg6SXs'],\n",
       " ['Saved From Spotify', 370, '2uUBg3MoRE8BQFpTdUsvPf'],\n",
       " ['Discover Weekly Archive', 1839, '1OeJTYZHXAjcrCuGeJOjC9'],\n",
       " ['Retired Workout', 50, '3FHnFo1VjQEr1TZTx8ebcm'],\n",
       " ['DRose Workout', 51, '597Lp9UzftLPoHgCRvJ6dS'],\n",
       " ['Morocco', 4, '0jqrv9xeVlY7gPRsqYjS0p']]"
      ]
     },
     "execution_count": 7,
     "metadata": {},
     "output_type": "execute_result"
    }
   ],
   "source": [
    "playlists_info"
   ]
  },
  {
   "cell_type": "code",
   "execution_count": 8,
   "metadata": {
    "collapsed": false
   },
   "outputs": [],
   "source": [
    "# The location of genius API_MT\n",
    "sys.path.append('/Users/board/Desktop/Kaggle/Song_Lyrics_NLP')\n",
    "from GeniusAPI_MT import *\n",
    "#from GeniusAPI_MT import *"
   ]
  },
  {
   "cell_type": "code",
   "execution_count": 9,
   "metadata": {
    "collapsed": false
   },
   "outputs": [
    {
     "name": "stdout",
     "output_type": "stream",
     "text": [
      "Length of text before cleaning:  2805\n",
      "Length of text after cleaning:  2733\n",
      "Did not find Artist:  A$AP Rocky  Song:  F**kin' Problems  combination.\n",
      "Length of text before cleaning:  2623\n",
      "Length of text after cleaning:  2461\n",
      "Length of text before cleaning:  2334\n",
      "Length of text after cleaning:  2141\n"
     ]
    }
   ],
   "source": [
    "lyrics_dict = {}\n",
    "for song_name, artist in tracklist.items():\n",
    "    lyrics_dict[song_name] = get_song_lyrics(artist_name=artist, song_title=song_name, headers=headers)"
   ]
  },
  {
   "cell_type": "code",
   "execution_count": 10,
   "metadata": {
    "collapsed": false,
    "scrolled": true
   },
   "outputs": [
    {
     "data": {
      "text/plain": [
       "{\"F**kin' Problems\": (),\n",
       " \"It's A Vibe\": \"   Yeah hahaha Yeah ooh Yah   That's a vibe (that's a vibe) She wanna vibe yeah (wanna vibe) That's a vibe (that's a vibe) Yeah uh (that's a vibe) That's a vibe (that's a vibe) It's a vibe (it's a vibe) That's a vibe yeah (that's a vibe) Yeah yeah (that's a vibe) Oh that's a vibe (that's a vibe) Oh it's a vibe (it's a vibe) That's a vibe (that's a vibe that's a vibe yeah yeah) That's a vibe (that's a vibe) She wanna vibe yeah (wanna vibe) That's a vibe yeah Yeah yeah   Yeah that's a vibe She wanna vibe That's a vibe This shit vibe yeah yeah Late night Oh it's a vibe Let me slide Oh it's a vibe yeah yeah Dim the lights Oh it's a vibe yeah Get high It's a vibe oh it's a vibe yeah   It's a vibe Don't you like? Your pussy drippin' Gushin' drippin' down your thighs It's a vibe Get high Diggin' deep while I'm lookin' in your eyes Vibe is the realest I know you feel it (yah) It's a vibe (vibe) Different vibe This my vibe nigga All the bitches like it   Okay so I got the ambiance just where I want it (yeah) And if you get paid it's solely based on your performance (TRU) My ego is enormous like my crib in California (hmm) If you ain't got no heart man you gonna need a donor Now I said I'm from the corner of the ATL (yah) Where we got that clientele avoid paper trails (right) Broke so many bales down that I'm shell shocked (bow) I held Glocks sold rocks by the mailbox (ooh) Got a vibe make a yellow chick turn her neck (alright) Got a vibe make a cougar wanna spend a check (check) Got a vibe make an Asian want hibachi (hibachi) Got a vibe make Italian want Versace (Versace) Carbon copies get declined I'm the pioneer Beat that pussy up I need riot gear Any volunteers? Gas in a Ziploc now that's loud and clear This one outta here this is our year   That's a vibe That's a vibe That's a vibe Oh that's a vibe yeah yeah That's a vibe It's a vibe It's a vibe That's a vibe yeah yeah It's a vibe Am I your type? Pussy tight Maybe I'll spend the night yeah yeah That's a vibe Bust it bust it wide This the type of shit I like yeah yeah That's a vibe It's a vibe That's a vibe Oh it's a vibe yeah yeah It's a vibe yeah yeah yeah  \",\n",
       " 'Just What I Am': '   I\\'m just what you made God - not many I trust I\\'ma go my own way God take my fate to wherever you want I\\'m out here on my son won\\'t stop \\'til I get me some Club-hoppin\\' tryin\\' to get me some bad bitches wanna get me sprung Early in the morning I\\'m wakin\\' bakin\\' drinkin\\' contemplatin\\' Ain\\'t no such thing as Satan evil is what you make it Thank the Lord for that burning bush that big body Benz I was born to push On my way I\\'m burning kush nigga don\\'t be worried \\'bout us Neighbors knockin\\' on the door asking can we turn it down I say \"Ain\\'t no music on\" she said \"Naw that weed is loud\" Nigga we ballin\\' straight swaggin\\' lost Hawk but I\\'m maintainin\\' I\\'ve been told that I\\'m amazing make sure keep that fire blazin\\' we livin\\'   I need smoke I need to smoke Who gon\\' hold me down now I wanna get high y\\'all I wanna get high y\\'all Need it need it to get by y\\'all Can you get me high y\\'all? I wanna get high y\\'all I wanna get high y\\'all Need it need it to get by y\\'all Can you get me high y\\'all?   I\\'m just what you made God just what you made God (Nee-need it) I\\'m just what you made God I\\'m just what you made (Nee-need it) I\\'m just what you made God I\\'m just what you made God I\\'m just what you made God   Let me tell you ‘bout my month y\\'all in the shop and I had a ball I had to ball for therapy my shrink don’t think that helps at all Whatever that man ain’t wearing these leather pants I diagnose my damn self these damn pills ain’t working fam In my spare time punching walls fucking up my hand I know that shit sound super cray but if you had my life you’d understand But I can’t fold some poor soul got it way worse We’re all troubled in a world of trouble It’s scary to have a kid walk this Earth I’m what you made God fuck yes I’m so odd Thinking \\'bout all my old friends who weren’t my friends all along Hm when it rains it pours whiskey bottles on the sinks and floors Everyday to find sane’s a chore amidst a dream with no exit doors   I need smoke I need to smoke Who gon\\' hold me down now I wanna get high y\\'all I wanna get high y\\'all Need it need it to get by y\\'all Can you get me high y\\'all? I wanna get high y\\'all I wanna get high y\\'all Need it need it to get by y\\'all Can you get me high y\\'all?   I\\'m just what you made God just what you made God (Nee-need it) I\\'m just what you made God I\\'m just what you made (Nee-need it) I\\'m just what you made God I\\'m just what you made God I\\'m just what you made God   Need it to get by ya Willy  ',\n",
       " 'Soundtrack 2 My Life': '   I got 99 problems and they all bitches Wish I was Jigga Man carefree livin\\' But I\\'m not Shawn or Martin Louis I\\'m that Cleveland nigga rolling with them Brooklyn boys You know how it be when you start living large I control my own life Charles was never in charge No sitcom could teach Scott about the dram Or even explain the troubles that haunted my mom On Christmas time my mom Christmas grind Got me most of what I wanted how\\'d you do it mom huh? She copped the toys I would play with in my room by myself \"Why he by himself?\" He got two older brothers one hood one good An independent older sister kept me fly when she could But they all didn\\'t see the little bit of sadness in me Scotty   I\\'ve got some issues that nobody can see And all of these emotions are pouring out of me I bring them to the light for you It\\'s only right This is the soundtrack to my life the soundtrack to my life   I\\'m super paranoid like a 6th sense Since my father died I ain\\'t been right since And I tried to piece the puzzle of the universe Split an eighth of shrooms just so I could see the universe I tried to think about myself as a sacrifice Just to show the kids they ain\\'t the only ones who up at night The moon will illuminate my room and soon I\\'m consumed by my doom Once upon a time nobody gave a fuck It\\'s all said and done and my cocks been sucked So now I\\'m in the cut alcohol in the wound My heart\\'s an open sore that I hope heals soon I live in a cocoon opposite of Cancun Where it is never sunny the dark side of the moon So it\\'s more than right I try to shed some light on a man Not many people of this planet understand... fam   I\\'ve got some issues that nobody can see And all of these emotions are pouring out of me I bring them to the light for you It\\'s only right This is the soundtrack to my life the soundtrack to my life   I was close to go and trying some coke And a happy ending would be slitting my throat Ignorance to cope man ignorance is bliss Ignorance is love and I need that shit If I never did shows then I\\'d probably be a myth If I cared about the blogs then I\\'d probably be a jackass Don\\'t give a shit what people talkin\\' bout fam Haters shake my hand but I keep the sanitizer on deck Hope I really get to see 30 Wanna settle down stop being so flirty Most of the clean faces be the most dirty I just need a thoroughbred cook when I\\'m hungry Ass all chunky brain is insanity Only things that calm me down pussy and some Cali trees And I get both never truly satisfied I am happy that\\'s just the saddest lie   I\\'ve got some issues that nobody can see And all of these emotions are pouring out of me I bring them to the light for you It\\'s only right This is the soundtrack to my life the soundtrack to my life  '}"
      ]
     },
     "execution_count": 10,
     "metadata": {},
     "output_type": "execute_result"
    }
   ],
   "source": [
    "lyrics_dict"
   ]
  },
  {
   "cell_type": "code",
   "execution_count": 32,
   "metadata": {
    "collapsed": true
   },
   "outputs": [],
   "source": [
    "class song: \n",
    "    def __init__(self, title, artist):\n",
    "        self.title = title\n",
    "        self.artist = artist\n",
    "        self.lyrics = get_song_lyrics(self.artist, self.title, headers = headers)\n",
    "        self.wc = WordCloud().generate(self.lyrics)\n",
    "    def showWordCloud(self)\n",
    "        self.wc.to_image().show()\n"
   ]
  },
  {
   "cell_type": "code",
   "execution_count": 25,
   "metadata": {
    "collapsed": false
   },
   "outputs": [],
   "source": [
    "class playlist:\n",
    "    def __init__(self, playlist_name, list_of_songs):\n",
    "        self.playlist_name = playlist_name\n",
    "        self.list_of_songs = songs\n",
    "\n",
    "        \n",
    "    "
   ]
  },
  {
   "cell_type": "code",
   "execution_count": 33,
   "metadata": {
    "collapsed": false
   },
   "outputs": [
    {
     "name": "stdout",
     "output_type": "stream",
     "text": [
      "Length of text before cleaning:  2623\n",
      "Length of text after cleaning:  2461\n"
     ]
    }
   ],
   "source": [
    "inst1 = song('Just What I Am', 'Kid Cudi' )"
   ]
  },
  {
   "cell_type": "code",
   "execution_count": 36,
   "metadata": {
    "collapsed": false
   },
   "outputs": [],
   "source": [
    "inst1.wc.show()"
   ]
  },
  {
   "cell_type": "code",
   "execution_count": 29,
   "metadata": {
    "collapsed": true
   },
   "outputs": [],
   "source": [
    "inst1.wc."
   ]
  },
  {
   "cell_type": "code",
   "execution_count": 30,
   "metadata": {
    "collapsed": false
   },
   "outputs": [],
   "source": [
    "image = wc.to_image()"
   ]
  },
  {
   "cell_type": "code",
   "execution_count": 31,
   "metadata": {
    "collapsed": false
   },
   "outputs": [],
   "source": [
    "image.show()"
   ]
  },
  {
   "cell_type": "code",
   "execution_count": null,
   "metadata": {
    "collapsed": false
   },
   "outputs": [],
   "source": [
    "# results = sp.user_playlist(username, playlist['id'], fields=\"tracks\")\n",
    "\n",
    "# Track name \n",
    "# results[\"tracks\"][\"items\"][0][\"track\"][\"name\"]\n",
    "\n",
    "# Artist \n",
    "# results[\"tracks\"][\"items\"][0][\"track\"][\"artists\"][0][\"name\"]"
   ]
  },
  {
   "cell_type": "code",
   "execution_count": null,
   "metadata": {
    "collapsed": true
   },
   "outputs": [],
   "source": [
    "def get_tracks(username):\n",
    "    #from spotipy.oauth2 import SpotifyClientCredentials\n",
    "    #import sys\n",
    "    \n",
    "    '''\n",
    "    export SPOTIPY_CLIENT_ID='d3c68e4eb95942fb9a0ceb508d62c127'\n",
    "    export SPOTIPY_CLIENT_SECRET='bab6935eaa2f478ea4c47a6c8a96eec8'\n",
    "    export SPOTIPY_REDIRECT_URI='http://localhost/' '''\n",
    "\n",
    "    #client_credentials_manager = SpotifyClientCredentials('d3c68e4eb95942fb9a0ceb508d62c127','bab6935eaa2f478ea4c47a6c8a96eec8')\n",
    "    #sp = spotipy.Spotify(client_credentials_manager=client_credentials_manager)\n",
    "    scope = 'user-library-read playlist-read-private user-top-read'\n",
    "    #username = '1282829978'\n",
    "    \n",
    "    \n",
    "\n",
    "    '''if len(sys.argv) > 1:\n",
    "        username = sys.argv[1]\n",
    "    else:\n",
    "        print(\"Usage: %s username\" % (sys.argv[0],))\n",
    "        sys.exit()'''\n",
    "    token = util.prompt_for_user_token(username,scope)\n",
    "    #client_id='d3c68e4eb95942fb9a0ceb508d62c127',client_secret='bab6935eaa2f478ea4c47a6c8a96eec8',redirect_uri='http://localhost/')\n",
    "    "
   ]
  },
  {
   "cell_type": "code",
   "execution_count": null,
   "metadata": {
    "collapsed": true
   },
   "outputs": [],
   "source": [
    "    if token:\n",
    "        sp = spotipy.Spotify(auth=token)\n",
    "        playlists = sp.user_playlists(username)\n",
    "        for playlist in playlists['items']:\n",
    "            if playlist['owner']['id'] == username:\n",
    "                print()\n",
    "                print(playlist['name'])\n",
    "                print('  total tracks', playlist['tracks']['total'])\n",
    "                results = sp.user_playlist(username, playlist['id'],\n",
    "                    fields=\"tracks,next\")\n",
    "                tracks = results['tracks']\n",
    "                tracksDict = show_tracks(tracks)\n",
    "                while tracks['next']:\n",
    "                    tracks = sp.next(tracks)\n",
    "                    show_tracks(tracks)\n",
    "    else:\n",
    "        print(\"Can't get token for\", username)\n",
    "    #sp = spotipy.Spotify()\n",
    "    return tracksDict\n",
    "    '''playlists = sp.user_playlists('spotify')\n",
    "    while playlists:\n",
    "        for i, playlist in enumerate(playlists['items']):\n",
    "            print(\"%4d %s %s\" % (i + 1 + playlists['offset'], playlist['uri'],  playlist['name']))\n",
    "        if playlists['next']:\n",
    "            playlists = sp.next(playlists)\n",
    "        else:\n",
    "            playlists = None\n",
    "    \n",
    "    results = sp.search(q='weezer', limit=20)\n",
    "    for i, t in enumerate(results['tracks']['items']):\n",
    "        print(' ', i, t['name'])'''\n",
    "        \n",
    "        "
   ]
  },
  {
   "cell_type": "code",
   "execution_count": null,
   "metadata": {
    "collapsed": false
   },
   "outputs": [],
   "source": [
    "    if token:\n",
    "        sp = spotipy.Spotify(auth=token)\n",
    "        playlists = sp.user_playlists(username)\n",
    "        for playlist in playlists['items']:\n",
    "            if playlist['owner']['id'] == username:\n",
    "                print()\n",
    "                print(playlist['name'])\n",
    "                print('  total tracks', playlist['tracks']['total'])\n",
    "                results = sp.user_playlist(username, playlist['id'],\n",
    "                    fields=\"tracks,next\")\n",
    "                tracks = results['tracks']\n",
    "                tracksDict = show_tracks(tracks)\n",
    "                while tracks['next']:\n",
    "                    tracks = sp.next(tracks)\n",
    "                    show_tracks(tracks)\n",
    "    else:\n",
    "        print(\"Can't get token for\", username)\n",
    "    #sp = spotipy.Spotify()\n",
    "    '''playlists = sp.user_playlists('spotify')\n",
    "    while playlists:\n",
    "        for i, playlist in enumerate(playlists['items']):\n",
    "            print(\"%4d %s %s\" % (i + 1 + playlists['offset'], playlist['uri'],  playlist['name']))\n",
    "        if playlists['next']:\n",
    "            playlists = sp.next(playlists)\n",
    "        else:\n",
    "            playlists = None\n",
    "    \n",
    "    results = sp.search(q='weezer', limit=20)\n",
    "    for i, t in enumerate(results['tracks']['items']):\n",
    "        print(' ', i, t['name'])'''\n",
    "        \n",
    "        \n",
    "#tracksDict = get_tracks('174829003346')"
   ]
  },
  {
   "cell_type": "code",
   "execution_count": null,
   "metadata": {
    "collapsed": false
   },
   "outputs": [],
   "source": [
    "    #from spotipy.oauth2 import SpotifyClientCredentials\n",
    "    #import sys\n",
    "username = '174829003346'  \n",
    "    '''\n",
    "    export SPOTIPY_CLIENT_ID='d3c68e4eb95942fb9a0ceb508d62c127'\n",
    "    export SPOTIPY_CLIENT_SECRET='bab6935eaa2f478ea4c47a6c8a96eec8'\n",
    "    export SPOTIPY_REDIRECT_URI='http://localhost/' '''\n",
    "\n",
    "    #client_credentials_manager = SpotifyClientCredentials('d3c68e4eb95942fb9a0ceb508d62c127','bab6935eaa2f478ea4c47a6c8a96eec8')\n",
    "    #sp = spotipy.Spotify(client_credentials_manager=client_credentials_manager)\n",
    "    scope = 'user-library-read playlist-read-private user-top-read'\n",
    "    #username = '1282829978'\n",
    "    \n",
    "    \n",
    "\n",
    "    '''if len(sys.argv) > 1:\n",
    "        username = sys.argv[1]\n",
    "    else:\n",
    "        print(\"Usage: %s username\" % (sys.argv[0],))\n",
    "        sys.exit()'''\n",
    "    token = util.prompt_for_user_token(username,scope)#client_id='d3c68e4eb95942fb9a0ceb508d62c127',client_secret='bab6935eaa2f478ea4c47a6c8a96eec8',redirect_uri='http://localhost/')\n",
    "    "
   ]
  }
 ],
 "metadata": {
  "anaconda-cloud": {},
  "kernelspec": {
   "display_name": "Python [Root]",
   "language": "python",
   "name": "Python [Root]"
  },
  "language_info": {
   "codemirror_mode": {
    "name": "ipython",
    "version": 3
   },
   "file_extension": ".py",
   "mimetype": "text/x-python",
   "name": "python",
   "nbconvert_exporter": "python",
   "pygments_lexer": "ipython3",
   "version": "3.5.2"
  }
 },
 "nbformat": 4,
 "nbformat_minor": 0
}
