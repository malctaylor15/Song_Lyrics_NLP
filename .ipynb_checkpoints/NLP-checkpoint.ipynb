{
 "cells": [
  {
   "cell_type": "markdown",
   "metadata": {},
   "source": [
    "\n",
    "Big thanks to  \n",
    "https://bigishdata.com/2016/09/27/getting-song-lyrics-from-geniuss-api-scraping/  \n",
    "for helping us get started \n"
   ]
  },
  {
   "cell_type": "code",
   "execution_count": 1,
   "metadata": {
    "collapsed": true
   },
   "outputs": [],
   "source": [
    "import requests\n",
    "from bs4 import BeautifulSoup"
   ]
  },
  {
   "cell_type": "code",
   "execution_count": 2,
   "metadata": {
    "collapsed": true
   },
   "outputs": [],
   "source": [
    "TOKEN =  <<YOUR TOKEN HERE >> "
   ]
  },
  {
   "cell_type": "code",
   "execution_count": 3,
   "metadata": {
    "collapsed": true
   },
   "outputs": [],
   "source": [
    "base_url = \"http://api.genius.com/\"\n",
    "base_url2 = \"http://api.genius.com\"\n",
    "headers = {'Authorization': 'Bearer '+TOKEN}\n",
    "search_url = base_url + \"search\""
   ]
  },
  {
   "cell_type": "code",
   "execution_count": 4,
   "metadata": {
    "collapsed": false
   },
   "outputs": [],
   "source": [
    "song_title = \"Anywhere\"\n",
    "artist_name = \"The Decemberists\""
   ]
  },
  {
   "cell_type": "code",
   "execution_count": 5,
   "metadata": {
    "collapsed": true
   },
   "outputs": [],
   "source": [
    "data = {'q': song_title}\n",
    "response = requests.get(search_url, params=data, headers=headers)\n",
    "json = response.json()\n"
   ]
  },
  {
   "cell_type": "code",
   "execution_count": 6,
   "metadata": {
    "collapsed": false,
    "scrolled": true
   },
   "outputs": [
    {
     "data": {
      "text/plain": [
       "{'meta': {'status': 200},\n",
       " 'response': {'hits': [{'highlights': [],\n",
       "    'index': 'song',\n",
       "    'result': {'annotation_count': 4,\n",
       "     'api_path': '/songs/52082',\n",
       "     'full_title': 'Anywhere by\\xa0Frank\\xa0Ocean',\n",
       "     'header_image_thumbnail_url': 'https://images.genius.com/45ac3d35ad1c0d4f834fa22b9130780d.300x300x1.jpg',\n",
       "     'header_image_url': 'https://images.genius.com/45ac3d35ad1c0d4f834fa22b9130780d.760x760x1.jpg',\n",
       "     'id': 52082,\n",
       "     'lyrics_owner_id': 7,\n",
       "     'lyrics_state': 'complete',\n",
       "     'path': '/Frank-ocean-anywhere-lyrics',\n",
       "     'primary_artist': {'api_path': '/artists/1985',\n",
       "      'header_image_url': 'https://images.genius.com/dc20a07d22abb55801d337dc6951eec5.757x418x1.png',\n",
       "      'id': 1985,\n",
       "      'image_url': 'https://images.genius.com/45ac3d35ad1c0d4f834fa22b9130780d.760x760x1.jpg',\n",
       "      'iq': 4552,\n",
       "      'is_meme_verified': True,\n",
       "      'is_verified': True,\n",
       "      'name': 'Frank Ocean',\n",
       "      'url': 'https://genius.com/artists/Frank-ocean'},\n",
       "     'pyongs_count': 3,\n",
       "     'song_art_image_thumbnail_url': 'https://images.genius.com/45ac3d35ad1c0d4f834fa22b9130780d.300x300x1.jpg',\n",
       "     'stats': {'hot': False, 'pageviews': 19004, 'unreviewed_annotations': 0},\n",
       "     'title': 'Anywhere',\n",
       "     'title_with_featured': 'Anywhere',\n",
       "     'url': 'https://genius.com/Frank-ocean-anywhere-lyrics'},\n",
       "    'type': 'song'},\n",
       "   {'highlights': [],\n",
       "    'index': 'song',\n",
       "    'result': {'annotation_count': 5,\n",
       "     'api_path': '/songs/3000792',\n",
       "     'full_title': 'Die Anywhere Else by\\xa0Night\\xa0in the Woods (Ft.\\xa0Angus, Bea, Gregg & Mae)',\n",
       "     'header_image_thumbnail_url': 'https://assets.genius.com/images/default_cover_image.png?1510264343',\n",
       "     'header_image_url': 'https://assets.genius.com/images/default_cover_image.png?1510264343',\n",
       "     'id': 3000792,\n",
       "     'lyrics_owner_id': 4304382,\n",
       "     'lyrics_state': 'complete',\n",
       "     'path': '/Night-in-the-woods-die-anywhere-else-lyrics',\n",
       "     'primary_artist': {'api_path': '/artists/1085531',\n",
       "      'header_image_url': 'https://assets.genius.com/images/default_avatar_300.png?1510264343',\n",
       "      'id': 1085531,\n",
       "      'image_url': 'https://assets.genius.com/images/default_avatar_300.png?1510264343',\n",
       "      'is_meme_verified': False,\n",
       "      'is_verified': False,\n",
       "      'name': 'Night in the Woods',\n",
       "      'url': 'https://genius.com/artists/Night-in-the-woods'},\n",
       "     'pyongs_count': 3,\n",
       "     'song_art_image_thumbnail_url': 'https://assets.genius.com/images/default_cover_image.png?1510264343',\n",
       "     'stats': {'hot': False, 'pageviews': 20172, 'unreviewed_annotations': 5},\n",
       "     'title': 'Die Anywhere Else',\n",
       "     'title_with_featured': 'Die Anywhere Else (Ft.\\xa0Angus, Bea, Gregg & Mae)',\n",
       "     'url': 'https://genius.com/Night-in-the-woods-die-anywhere-else-lyrics'},\n",
       "    'type': 'song'},\n",
       "   {'highlights': [],\n",
       "    'index': 'song',\n",
       "    'result': {'annotation_count': 27,\n",
       "     'api_path': '/songs/57793',\n",
       "     'full_title': \"Anywhere But Here by\\xa0Cocaine\\xa080's\",\n",
       "     'header_image_thumbnail_url': 'https://images.genius.com/97afc59973e7d3bf4ac0906f830b3c63.300x300x1.png',\n",
       "     'header_image_url': 'https://images.genius.com/97afc59973e7d3bf4ac0906f830b3c63.1000x1000x1.png',\n",
       "     'id': 57793,\n",
       "     'lyrics_owner_id': 3886,\n",
       "     'lyrics_state': 'complete',\n",
       "     'path': '/Cocaine-80s-anywhere-but-here-lyrics',\n",
       "     'primary_artist': {'api_path': '/artists/12270',\n",
       "      'header_image_url': 'https://s3.amazonaws.com/rapgenius/Cocaine%2080s%20ocaine%2080s.png',\n",
       "      'id': 12270,\n",
       "      'image_url': 'https://s3.amazonaws.com/rapgenius/Cocaine%2080s%20ocaine%2080s.png',\n",
       "      'is_meme_verified': False,\n",
       "      'is_verified': False,\n",
       "      'name': \"Cocaine 80's\",\n",
       "      'url': 'https://genius.com/artists/Cocaine-80s'},\n",
       "     'pyongs_count': 7,\n",
       "     'song_art_image_thumbnail_url': 'https://images.genius.com/97afc59973e7d3bf4ac0906f830b3c63.300x300x1.png',\n",
       "     'stats': {'hot': False, 'pageviews': 14191, 'unreviewed_annotations': 0},\n",
       "     'title': 'Anywhere But Here',\n",
       "     'title_with_featured': 'Anywhere But Here',\n",
       "     'url': 'https://genius.com/Cocaine-80s-anywhere-but-here-lyrics'},\n",
       "    'type': 'song'},\n",
       "   {'highlights': [],\n",
       "    'index': 'song',\n",
       "    'result': {'annotation_count': 1,\n",
       "     'api_path': '/songs/32035',\n",
       "     'full_title': \"Anywhere by\\xa0112 (Ft.\\xa0Lil'\\xa0Zane)\",\n",
       "     'header_image_thumbnail_url': 'https://images.genius.com/38ed57e49abd72902968e9b45ac6cbd7.300x302x1.jpg',\n",
       "     'header_image_url': 'https://images.genius.com/38ed57e49abd72902968e9b45ac6cbd7.636x640x1.jpg',\n",
       "     'id': 32035,\n",
       "     'lyrics_owner_id': 50,\n",
       "     'lyrics_state': 'complete',\n",
       "     'path': '/112-anywhere-lyrics',\n",
       "     'primary_artist': {'api_path': '/artists/504',\n",
       "      'header_image_url': 'https://s3.amazonaws.com/rapgenius/112group.jpg',\n",
       "      'id': 504,\n",
       "      'image_url': 'https://s3.amazonaws.com/rapgenius/112group.jpg',\n",
       "      'is_meme_verified': False,\n",
       "      'is_verified': False,\n",
       "      'name': '112',\n",
       "      'url': 'https://genius.com/artists/112'},\n",
       "     'pyongs_count': 2,\n",
       "     'song_art_image_thumbnail_url': 'https://images.genius.com/38ed57e49abd72902968e9b45ac6cbd7.300x302x1.jpg',\n",
       "     'stats': {'hot': False, 'pageviews': 20063, 'unreviewed_annotations': 0},\n",
       "     'title': 'Anywhere',\n",
       "     'title_with_featured': \"Anywhere (Ft.\\xa0Lil'\\xa0Zane)\",\n",
       "     'url': 'https://genius.com/112-anywhere-lyrics'},\n",
       "    'type': 'song'},\n",
       "   {'highlights': [],\n",
       "    'index': 'song',\n",
       "    'result': {'annotation_count': 27,\n",
       "     'api_path': '/songs/75194',\n",
       "     'full_title': 'Anywhere But Here by\\xa0Killer\\xa0Mike (Ft.\\xa0Emily\\xa0Panic)',\n",
       "     'header_image_thumbnail_url': 'https://images.genius.com/f1ce17fdad92806e2e9b19241838f42f.300x300x1.jpg',\n",
       "     'header_image_url': 'https://images.genius.com/f1ce17fdad92806e2e9b19241838f42f.1000x1000x1.jpg',\n",
       "     'id': 75194,\n",
       "     'lyrics_owner_id': 69476,\n",
       "     'lyrics_state': 'complete',\n",
       "     'path': '/Killer-mike-anywhere-but-here-lyrics',\n",
       "     'primary_artist': {'api_path': '/artists/547',\n",
       "      'header_image_url': 'https://images.genius.com/86239d3de00e4660583da44a02ffa821.820x546x1.jpg',\n",
       "      'id': 547,\n",
       "      'image_url': 'https://images.genius.com/86239d3de00e4660583da44a02ffa821.820x546x1.jpg',\n",
       "      'iq': 100,\n",
       "      'is_meme_verified': True,\n",
       "      'is_verified': True,\n",
       "      'name': 'Killer Mike',\n",
       "      'url': 'https://genius.com/artists/Killer-mike'},\n",
       "     'pyongs_count': 2,\n",
       "     'song_art_image_thumbnail_url': 'https://images.genius.com/f1ce17fdad92806e2e9b19241838f42f.300x300x1.jpg',\n",
       "     'stats': {'hot': False, 'pageviews': 15126, 'unreviewed_annotations': 3},\n",
       "     'title': 'Anywhere But Here',\n",
       "     'title_with_featured': 'Anywhere But Here (Ft.\\xa0Emily\\xa0Panic)',\n",
       "     'url': 'https://genius.com/Killer-mike-anywhere-but-here-lyrics'},\n",
       "    'type': 'song'},\n",
       "   {'highlights': [],\n",
       "    'index': 'song',\n",
       "    'result': {'annotation_count': 15,\n",
       "     'api_path': '/songs/616010',\n",
       "     'full_title': 'Anywhere by\\xa0Shy\\xa0Glizzy (Ft.\\xa030\\xa0Glizzy & 3\\xa0Glizzy)',\n",
       "     'header_image_thumbnail_url': 'https://images.genius.com/3219d07b10f9a17c1f8e069447f915ac.300x300x1.png',\n",
       "     'header_image_url': 'https://images.genius.com/3219d07b10f9a17c1f8e069447f915ac.500x500x1.png',\n",
       "     'id': 616010,\n",
       "     'lyrics_owner_id': 922360,\n",
       "     'lyrics_state': 'complete',\n",
       "     'path': '/Shy-glizzy-anywhere-lyrics',\n",
       "     'primary_artist': {'api_path': '/artists/19139',\n",
       "      'header_image_url': 'https://images.genius.com/d90386c634a5abbc0755b11a7809cb75.267x400x1.jpg',\n",
       "      'id': 19139,\n",
       "      'image_url': 'https://images.genius.com/4426cff93484a05ceca7be0ddfc40be3.744x744x1.png',\n",
       "      'iq': 1859,\n",
       "      'is_meme_verified': True,\n",
       "      'is_verified': True,\n",
       "      'name': 'Shy Glizzy',\n",
       "      'url': 'https://genius.com/artists/Shy-glizzy'},\n",
       "     'pyongs_count': 7,\n",
       "     'song_art_image_thumbnail_url': 'https://images.genius.com/3219d07b10f9a17c1f8e069447f915ac.300x300x1.png',\n",
       "     'stats': {'hot': False, 'pageviews': 7433, 'unreviewed_annotations': 15},\n",
       "     'title': 'Anywhere',\n",
       "     'title_with_featured': 'Anywhere (Ft.\\xa030\\xa0Glizzy & 3\\xa0Glizzy)',\n",
       "     'url': 'https://genius.com/Shy-glizzy-anywhere-lyrics'},\n",
       "    'type': 'song'},\n",
       "   {'highlights': [],\n",
       "    'index': 'song',\n",
       "    'result': {'annotation_count': 1,\n",
       "     'api_path': '/songs/3267700',\n",
       "     'full_title': 'Anywhere by\\xa0Rita\\xa0Ora',\n",
       "     'header_image_thumbnail_url': 'https://images.genius.com/03fc97eb264d8a2db6acf54553bb890c.300x300x1.jpg',\n",
       "     'header_image_url': 'https://images.genius.com/03fc97eb264d8a2db6acf54553bb890c.1000x1000x1.jpg',\n",
       "     'id': 3267700,\n",
       "     'lyrics_owner_id': 2034060,\n",
       "     'lyrics_state': 'complete',\n",
       "     'path': '/Rita-ora-anywhere-lyrics',\n",
       "     'primary_artist': {'api_path': '/artists/17853',\n",
       "      'header_image_url': 'https://images.genius.com/4a270209e9cac05b822b1ed819ed5fe4.1000x1000x1.jpg',\n",
       "      'id': 17853,\n",
       "      'image_url': 'https://images.genius.com/d035144ae2cb3ef1616fd17a84b92972.1000x1000x1.jpg',\n",
       "      'iq': 1093,\n",
       "      'is_meme_verified': True,\n",
       "      'is_verified': True,\n",
       "      'name': 'Rita Ora',\n",
       "      'url': 'https://genius.com/artists/Rita-ora'},\n",
       "     'pyongs_count': 13,\n",
       "     'song_art_image_thumbnail_url': 'https://images.genius.com/03fc97eb264d8a2db6acf54553bb890c.300x300x1.jpg',\n",
       "     'stats': {'concurrents': 4,\n",
       "      'hot': False,\n",
       "      'pageviews': 30613,\n",
       "      'unreviewed_annotations': 0},\n",
       "     'title': 'Anywhere',\n",
       "     'title_with_featured': 'Anywhere',\n",
       "     'url': 'https://genius.com/Rita-ora-anywhere-lyrics'},\n",
       "    'type': 'song'},\n",
       "   {'highlights': [],\n",
       "    'index': 'song',\n",
       "    'result': {'annotation_count': 1,\n",
       "     'api_path': '/songs/2841107',\n",
       "     'full_title': 'Anywhere by\\xa0Passenger',\n",
       "     'header_image_thumbnail_url': 'https://images.genius.com/0870d75fb04e37703cfb6be4f4973602.300x300x1.jpg',\n",
       "     'header_image_url': 'https://images.genius.com/0870d75fb04e37703cfb6be4f4973602.1000x1000x1.jpg',\n",
       "     'id': 2841107,\n",
       "     'lyrics_owner_id': 1717255,\n",
       "     'lyrics_state': 'complete',\n",
       "     'path': '/Passenger-anywhere-lyrics',\n",
       "     'primary_artist': {'api_path': '/artists/44274',\n",
       "      'header_image_url': 'https://images.genius.com/0d64e155ff8285765583c35ed30598b8.1000x352x1.png',\n",
       "      'id': 44274,\n",
       "      'image_url': 'https://images.genius.com/db10ea8fe760378f09ecdf509cdd5816.360x360x1.jpg',\n",
       "      'is_meme_verified': False,\n",
       "      'is_verified': False,\n",
       "      'name': 'Passenger',\n",
       "      'url': 'https://genius.com/artists/Passenger'},\n",
       "     'pyongs_count': 2,\n",
       "     'song_art_image_thumbnail_url': 'https://images.genius.com/0870d75fb04e37703cfb6be4f4973602.300x300x1.jpg',\n",
       "     'stats': {'hot': False, 'pageviews': 8322, 'unreviewed_annotations': 1},\n",
       "     'title': 'Anywhere',\n",
       "     'title_with_featured': 'Anywhere',\n",
       "     'url': 'https://genius.com/Passenger-anywhere-lyrics'},\n",
       "    'type': 'song'},\n",
       "   {'highlights': [],\n",
       "    'index': 'song',\n",
       "    'result': {'annotation_count': 5,\n",
       "     'api_path': '/songs/2312417',\n",
       "     'full_title': \"I'd Go With You Anywhere by\\xa0Birds\\xa0of Tokyo\",\n",
       "     'header_image_thumbnail_url': 'https://images.rapgenius.com/d766acb9a829bc7d9bc16f3444497d95.300x300x1.png',\n",
       "     'header_image_url': 'https://images.rapgenius.com/d766acb9a829bc7d9bc16f3444497d95.1000x1000x1.png',\n",
       "     'id': 2312417,\n",
       "     'lyrics_owner_id': 93685,\n",
       "     'lyrics_state': 'complete',\n",
       "     'path': '/Birds-of-tokyo-id-go-with-you-anywhere-lyrics',\n",
       "     'primary_artist': {'api_path': '/artists/185632',\n",
       "      'header_image_url': 'https://images.genius.com/cd7764c947d33cdfef1118890d17d9f2.635x290x1.jpg',\n",
       "      'id': 185632,\n",
       "      'image_url': 'https://images.genius.com/cd7764c947d33cdfef1118890d17d9f2.635x290x1.jpg',\n",
       "      'is_meme_verified': False,\n",
       "      'is_verified': False,\n",
       "      'name': 'Birds of Tokyo',\n",
       "      'url': 'https://genius.com/artists/Birds-of-tokyo'},\n",
       "     'pyongs_count': 1,\n",
       "     'song_art_image_thumbnail_url': 'https://images.rapgenius.com/d766acb9a829bc7d9bc16f3444497d95.300x300x1.png',\n",
       "     'stats': {'hot': False, 'pageviews': 5974, 'unreviewed_annotations': 4},\n",
       "     'title': \"I'd Go With You Anywhere\",\n",
       "     'title_with_featured': \"I'd Go With You Anywhere\",\n",
       "     'url': 'https://genius.com/Birds-of-tokyo-id-go-with-you-anywhere-lyrics'},\n",
       "    'type': 'song'},\n",
       "   {'highlights': [],\n",
       "    'index': 'song',\n",
       "    'result': {'annotation_count': 0,\n",
       "     'api_path': '/songs/2822520',\n",
       "     'full_title': 'Anywhere I Go by\\xa0Vicetone',\n",
       "     'header_image_thumbnail_url': 'https://images.genius.com/c8a8554666b9a0dda4967dab680efb34.300x300x1.jpg',\n",
       "     'header_image_url': 'https://images.genius.com/c8a8554666b9a0dda4967dab680efb34.1000x1000x1.jpg',\n",
       "     'id': 2822520,\n",
       "     'lyrics_owner_id': 672397,\n",
       "     'lyrics_state': 'complete',\n",
       "     'path': '/Vicetone-anywhere-i-go-lyrics',\n",
       "     'primary_artist': {'api_path': '/artists/366199',\n",
       "      'header_image_url': 'https://images.genius.com/100166807b55fe0eb0f4cc7db332dc53.1000x500x1.png',\n",
       "      'id': 366199,\n",
       "      'image_url': 'https://images.genius.com/bf91da3321c3e86545e4e180bc1c6202.1000x1000x1.png',\n",
       "      'is_meme_verified': False,\n",
       "      'is_verified': False,\n",
       "      'name': 'Vicetone',\n",
       "      'url': 'https://genius.com/artists/Vicetone'},\n",
       "     'pyongs_count': 2,\n",
       "     'song_art_image_thumbnail_url': 'https://images.genius.com/c8a8554666b9a0dda4967dab680efb34.300x300x1.jpg',\n",
       "     'stats': {'hot': False, 'pageviews': 10640, 'unreviewed_annotations': 0},\n",
       "     'title': 'Anywhere I Go',\n",
       "     'title_with_featured': 'Anywhere I Go',\n",
       "     'url': 'https://genius.com/Vicetone-anywhere-i-go-lyrics'},\n",
       "    'type': 'song'}]}}"
      ]
     },
     "execution_count": 6,
     "metadata": {},
     "output_type": "execute_result"
    }
   ],
   "source": [
    "json"
   ]
  },
  {
   "cell_type": "code",
   "execution_count": 33,
   "metadata": {
    "collapsed": false
   },
   "outputs": [
    {
     "data": {
      "text/plain": [
       "200"
      ]
     },
     "execution_count": 33,
     "metadata": {},
     "output_type": "execute_result"
    }
   ],
   "source": [
    "json[\"meta\"][\"status\"] # If query went well should be 200 "
   ]
  },
  {
   "cell_type": "code",
   "execution_count": 11,
   "metadata": {
    "collapsed": false
   },
   "outputs": [
    {
     "data": {
      "text/plain": [
       "10"
      ]
     },
     "execution_count": 11,
     "metadata": {},
     "output_type": "execute_result"
    }
   ],
   "source": [
    "numb_of_results = len(json[\"response\"][\"hits\"])"
   ]
  },
  {
   "cell_type": "code",
   "execution_count": 23,
   "metadata": {
    "collapsed": false
   },
   "outputs": [
    {
     "data": {
      "text/plain": [
       "dict_keys(['highlights', 'result', 'type', 'index'])"
      ]
     },
     "execution_count": 23,
     "metadata": {},
     "output_type": "execute_result"
    }
   ],
   "source": [
    "first_result = json[\"response\"][\"hits\"][0]\n",
    "first_result.keys()"
   ]
  },
  {
   "cell_type": "code",
   "execution_count": 35,
   "metadata": {
    "collapsed": false
   },
   "outputs": [],
   "source": [
    "title = first_result[\"result\"][\"title\"]\n",
    "artist = first_result[\"result\"][\"primary_artist\"][\"name\"]\n",
    "page_url = first_result[\"result\"][\"url\"]"
   ]
  },
  {
   "cell_type": "code",
   "execution_count": 34,
   "metadata": {
    "collapsed": false
   },
   "outputs": [
    {
     "data": {
      "text/plain": [
       "'complete'"
      ]
     },
     "execution_count": 34,
     "metadata": {},
     "output_type": "execute_result"
    }
   ],
   "source": [
    "first_result[\"result\"][\"lyrics_state\"] # Something to check -- complete is good "
   ]
  },
  {
   "cell_type": "code",
   "execution_count": null,
   "metadata": {
    "collapsed": true
   },
   "outputs": [],
   "source": []
  },
  {
   "cell_type": "code",
   "execution_count": 36,
   "metadata": {
    "collapsed": true
   },
   "outputs": [],
   "source": [
    "page = requests.get(url=page_url)\n",
    "html = BeautifulSoup(page.text, \"html.parser\")\n",
    "#remove script tags that they put in the middle of the lyrics\n",
    "[h.extract() for h in html('script')]\n",
    "#at least Genius is nice and has a tag called 'lyrics'!\n",
    "lyrics = html.find(\"div\", class_=\"lyrics\").get_text() #updated css where the lyrics are based in HTML\n"
   ]
  },
  {
   "cell_type": "code",
   "execution_count": 37,
   "metadata": {
    "collapsed": false,
    "scrolled": true
   },
   "outputs": [
    {
     "data": {
      "text/plain": [
       "\"\\n\\nOh, girl you blow my mind everytime that we're alone\\nGirl, let's do something new, baby tell me where you wanna go\\nSo much opportunity, so many possibilities\\nI know when we be sexing cause you'll never know where we be sexing girl\\nI can't wait til you get off so I can put it on you\\nI've been thinking about you all day\\nYou got that kind of love make a nigga wanna spend it on you\\nShe ain't like them other girls, she ain't like them other girls\\nWe be all up on the couch, we be all up on my dresser\\nWe be all up in my bad, lil shorty ain't scared\\nWe just do it anywhere..\\nIn the backseat of my car, I know she don't mind\\nAll up in your office, putting in that overtime\\nWe just do it anywhere..\\n\\n\""
      ]
     },
     "execution_count": 37,
     "metadata": {},
     "output_type": "execute_result"
    }
   ],
   "source": [
    "lyrics"
   ]
  },
  {
   "cell_type": "code",
   "execution_count": null,
   "metadata": {
    "collapsed": true
   },
   "outputs": [],
   "source": []
  },
  {
   "cell_type": "code",
   "execution_count": 75,
   "metadata": {
    "collapsed": false
   },
   "outputs": [],
   "source": [
    "song_info = None\n",
    "for hit in json[\"response\"][\"hits\"]:\n",
    "  if hit[\"result\"][\"primary_artist\"][\"name\"] == artist_name:\n",
    "    song_info = hit\n",
    "    break\n",
    "if song_info:\n",
    "  pass"
   ]
  }
 ],
 "metadata": {
  "kernelspec": {
   "display_name": "Python [Root]",
   "language": "python",
   "name": "Python [Root]"
  },
  "language_info": {
   "codemirror_mode": {
    "name": "ipython",
    "version": 3
   },
   "file_extension": ".py",
   "mimetype": "text/x-python",
   "name": "python",
   "nbconvert_exporter": "python",
   "pygments_lexer": "ipython3",
   "version": "3.5.2"
  }
 },
 "nbformat": 4,
 "nbformat_minor": 0
}
