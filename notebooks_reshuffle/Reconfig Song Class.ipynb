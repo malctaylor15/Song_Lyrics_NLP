{
 "cells": [
  {
   "cell_type": "code",
   "execution_count": 1,
   "metadata": {},
   "outputs": [],
   "source": [
    "import pickle\n",
    "import requests\n",
    "from bs4 import BeautifulSoup\n",
    "import os \n",
    "import sys \n",
    "%load_ext autoreload\n",
    "%autoreload 2"
   ]
  },
  {
   "cell_type": "code",
   "execution_count": 32,
   "metadata": {},
   "outputs": [],
   "source": [
    "import spotipy\n",
    "from importlib import reload\n",
    "from spotipy.oauth2 import SpotifyClientCredentials\n",
    "import json"
   ]
  },
  {
   "cell_type": "code",
   "execution_count": 7,
   "metadata": {},
   "outputs": [],
   "source": [
    "import scripts.song_class as cls1\n",
    "import scripts.genius_api as genius_api"
   ]
  },
  {
   "cell_type": "code",
   "execution_count": 2,
   "metadata": {},
   "outputs": [],
   "source": []
  },
  {
   "cell_type": "code",
   "execution_count": 3,
   "metadata": {},
   "outputs": [],
   "source": [
    "sys.path.append(os.path.abspath('..'))"
   ]
  },
  {
   "cell_type": "code",
   "execution_count": 4,
   "metadata": {},
   "outputs": [],
   "source": [
    "with open(\"../cfg_files/genius_header.pkl\", 'rb') as hnd:\n",
    "    genius_headers = pickle.load(hnd)"
   ]
  },
  {
   "cell_type": "code",
   "execution_count": 13,
   "metadata": {},
   "outputs": [],
   "source": [
    "with open(\"../cfg_files/spotify_credentials.pkl\", \"rb\") as hnd:\n",
    "    spotify_credentials = pickle.load(hnd)\n"
   ]
  },
  {
   "cell_type": "code",
   "execution_count": 9,
   "metadata": {},
   "outputs": [],
   "source": []
  },
  {
   "cell_type": "code",
   "execution_count": 38,
   "metadata": {},
   "outputs": [],
   "source": [
    "client_credentials_manager = SpotifyClientCredentials(client_id=spotify_credentials['SPOTIPY_CLIENT_ID']\n",
    "                                                      , client_secret=spotify_credentials['SPOTIPY_CLIENT_SECRET'])\n",
    "\n",
    "token = client_credentials_manager.get_access_token()\n",
    "sp = spotipy.Spotify(auth=token)"
   ]
  },
  {
   "cell_type": "raw",
   "metadata": {},
   "source": [
    "token"
   ]
  },
  {
   "cell_type": "code",
   "execution_count": 39,
   "metadata": {},
   "outputs": [],
   "source": [
    "demo_name = 'Morning'\n",
    "demo_artist = 'Marc E. Bassy'\n",
    "demo_spotify_id = '54Yappwod1fELR5zb2gDBn'\n",
    "\n",
    "# To find spotify id, use desktop browser and then share then copy spotify uri "
   ]
  },
  {
   "cell_type": "raw",
   "metadata": {},
   "source": [
    "demo_name = 'Coffee'\n",
    "demo_artist = 'Cam Meekins'\n",
    "demo_spotify_id = '06WL8P02gBEdHF3hDDmiHl'"
   ]
  },
  {
   "cell_type": "raw",
   "metadata": {},
   "source": [
    "demo_name = 'OCD'\n",
    "demo_artist = 'Logic'\n",
    "demo_spotify_id = '5AebNkVaY2zcdNFCqPBIV7"
   ]
  },
  {
   "cell_type": "code",
   "execution_count": 40,
   "metadata": {},
   "outputs": [],
   "source": [
    "song1 = cls1.song(demo_name, demo_artist, demo_spotify_id)\n",
    "song1.execute()"
   ]
  },
  {
   "cell_type": "code",
   "execution_count": 41,
   "metadata": {
    "scrolled": true
   },
   "outputs": [
    {
     "data": {
      "text/plain": [
       "'Morning_Marc E. Bassy'"
      ]
     },
     "execution_count": 41,
     "metadata": {},
     "output_type": "execute_result"
    }
   ],
   "source": [
    "song1.title_and_artist"
   ]
  },
  {
   "cell_type": "code",
   "execution_count": 42,
   "metadata": {},
   "outputs": [
    {
     "data": {
      "text/plain": [
       "\"\\n\\n[Verse 1]\\nWith no makeup on and your eyelash hanging\\nI would still love you\\nIf you came home late and you kept me waiting\\nI would still trust you\\nIf the richer man was looking at you\\nWould you stay cold as a statue?\\nWould my love still be good for you?\\n\\n[Chorus]\\nWould you be there in the mornin', mornin', mornin' , mornin'?\\nWould you be there in the mornin', mornin', mornin' mornin'?\\nWould you stay here from the sunset to the sunrise?\\nWhen I open up both eyes\\nBe there in the mornin', mornin', mornin'\\n\\n[Verse 2]\\nIf I pass out drunk and you check my message\\nAnd see my exes\\nWould you still believe that it's only just us\\nAnd I'm not reckless?\\nWould you know if I ever laid with another lover?\\nWe was on a break, babe and I wore a rubber\\nWould you forgive me?\\n\\n[Chorus]\\nWould you be there in the mornin', mornin', mornin' , mornin'?\\nWould you be there in the mornin', mornin', mornin' , mornin'?\\nWould you stay here from the sunset to the sunrise?\\nWhen I open up both eyes\\nBe there in the mornin', mornin', mornin'\\n\\n[Verse 3]\\nAnd last night, last night\\nI dreamed of a woman\\nDark brown eyes\\nDaddy told her all she knows\\nShe brought me to life\\nShe set my soul in motion\\nAnd there's only one thing that I gotta know\\n\\n[Chorus]\\nWould you be there in the mornin', mornin', mornin' , mornin'?\\nWould you be there in the mornin', mornin', mornin' , mornin'?\\nWould you stay here from the sunset to the sunrise?\\nWhen I open up both eyes\\nBe there in the mornin', mornin', mornin'\\n\\n\""
      ]
     },
     "execution_count": 42,
     "metadata": {},
     "output_type": "execute_result"
    }
   ],
   "source": [
    "song1.raw_lyrics"
   ]
  },
  {
   "cell_type": "code",
   "execution_count": 43,
   "metadata": {},
   "outputs": [
    {
     "data": {
      "text/plain": [
       "{'danceability': 0.468,\n",
       " 'energy': 0.438,\n",
       " 'key': 10,\n",
       " 'loudness': -8.227,\n",
       " 'mode': 1,\n",
       " 'speechiness': 0.0697,\n",
       " 'acousticness': 0.563,\n",
       " 'instrumentalness': 0,\n",
       " 'liveness': 0.181,\n",
       " 'valence': 0.344,\n",
       " 'tempo': 108.367,\n",
       " 'duration_ms': 206080,\n",
       " 'time_signature': 3}"
      ]
     },
     "execution_count": 43,
     "metadata": {},
     "output_type": "execute_result"
    }
   ],
   "source": [
    "song1.audioFeatures"
   ]
  },
  {
   "cell_type": "code",
   "execution_count": null,
   "metadata": {},
   "outputs": [],
   "source": []
  },
  {
   "cell_type": "code",
   "execution_count": 44,
   "metadata": {},
   "outputs": [],
   "source": [
    "all_details = {}\n",
    "# Basics\n",
    "all_details[\"title\"] = song1.title\n",
    "all_details[\"artist\"] = song1.artist\n",
    "all_details[\"title_and_artist\"] = song1.title + \"_\" + song1.artist\n",
    "all_details[\"spotify_id\"] = song1.spotify_id\n",
    "# Lyrics\n",
    "all_details[\"raw_lyrics\"] = song1.raw_lyrics\n",
    "all_details[\"lyrics\"] = song1.lyrics\n",
    "# Other\n",
    "all_details[\"word_counts\"] = song1.word_counts.to_dict()\n",
    "all_details.update(song1.audioFeatures)\n",
    "all_details[\"polarity\"] = song1.polarity\n"
   ]
  },
  {
   "cell_type": "code",
   "execution_count": 45,
   "metadata": {
    "scrolled": true
   },
   "outputs": [],
   "source": [
    "txt1 = json.dumps(all_details)"
   ]
  },
  {
   "cell_type": "code",
   "execution_count": null,
   "metadata": {},
   "outputs": [],
   "source": []
  },
  {
   "cell_type": "code",
   "execution_count": null,
   "metadata": {},
   "outputs": [],
   "source": []
  },
  {
   "cell_type": "code",
   "execution_count": 47,
   "metadata": {},
   "outputs": [],
   "source": [
    "lyrics = song1.raw_lyrics"
   ]
  },
  {
   "cell_type": "code",
   "execution_count": 49,
   "metadata": {},
   "outputs": [
    {
     "data": {
      "text/plain": [
       "['',\n",
       " '',\n",
       " '[Verse 1]',\n",
       " 'With no makeup on and your eyelash hanging',\n",
       " 'I would still love you',\n",
       " 'If you came home late and you kept me waiting',\n",
       " 'I would still trust you',\n",
       " 'If the richer man was looking at you',\n",
       " 'Would you stay cold as a statue?',\n",
       " 'Would my love still be good for you?',\n",
       " '',\n",
       " '[Chorus]',\n",
       " \"Would you be there in the mornin', mornin', mornin' , mornin'?\",\n",
       " \"Would you be there in the mornin', mornin', mornin' mornin'?\",\n",
       " 'Would you stay here from the sunset to the sunrise?',\n",
       " 'When I open up both eyes',\n",
       " \"Be there in the mornin', mornin', mornin'\",\n",
       " '',\n",
       " '[Verse 2]',\n",
       " 'If I pass out drunk and you check my message',\n",
       " 'And see my exes',\n",
       " \"Would you still believe that it's only just us\",\n",
       " \"And I'm not reckless?\",\n",
       " 'Would you know if I ever laid with another lover?',\n",
       " 'We was on a break, babe and I wore a rubber',\n",
       " 'Would you forgive me?',\n",
       " '',\n",
       " '[Chorus]',\n",
       " \"Would you be there in the mornin', mornin', mornin' , mornin'?\",\n",
       " \"Would you be there in the mornin', mornin', mornin' , mornin'?\",\n",
       " 'Would you stay here from the sunset to the sunrise?',\n",
       " 'When I open up both eyes',\n",
       " \"Be there in the mornin', mornin', mornin'\",\n",
       " '',\n",
       " '[Verse 3]',\n",
       " 'And last night, last night',\n",
       " 'I dreamed of a woman',\n",
       " 'Dark brown eyes',\n",
       " 'Daddy told her all she knows',\n",
       " 'She brought me to life',\n",
       " 'She set my soul in motion',\n",
       " \"And there's only one thing that I gotta know\",\n",
       " '',\n",
       " '[Chorus]',\n",
       " \"Would you be there in the mornin', mornin', mornin' , mornin'?\",\n",
       " \"Would you be there in the mornin', mornin', mornin' , mornin'?\",\n",
       " 'Would you stay here from the sunset to the sunrise?',\n",
       " 'When I open up both eyes',\n",
       " \"Be there in the mornin', mornin', mornin'\",\n",
       " '',\n",
       " '']"
      ]
     },
     "execution_count": 49,
     "metadata": {},
     "output_type": "execute_result"
    }
   ],
   "source": [
    "lyrics.split('\\n')"
   ]
  },
  {
   "cell_type": "code",
   "execution_count": null,
   "metadata": {},
   "outputs": [],
   "source": []
  },
  {
   "cell_type": "code",
   "execution_count": null,
   "metadata": {},
   "outputs": [],
   "source": []
  },
  {
   "cell_type": "code",
   "execution_count": null,
   "metadata": {},
   "outputs": [],
   "source": []
  }
 ],
 "metadata": {
  "kernelspec": {
   "display_name": "Python 3",
   "language": "python",
   "name": "python3"
  },
  "language_info": {
   "codemirror_mode": {
    "name": "ipython",
    "version": 3
   },
   "file_extension": ".py",
   "mimetype": "text/x-python",
   "name": "python",
   "nbconvert_exporter": "python",
   "pygments_lexer": "ipython3",
   "version": "3.6.4"
  },
  "toc": {
   "base_numbering": 1,
   "nav_menu": {},
   "number_sections": true,
   "sideBar": true,
   "skip_h1_title": false,
   "title_cell": "Table of Contents",
   "title_sidebar": "Contents",
   "toc_cell": false,
   "toc_position": {},
   "toc_section_display": true,
   "toc_window_display": false
  }
 },
 "nbformat": 4,
 "nbformat_minor": 2
}
