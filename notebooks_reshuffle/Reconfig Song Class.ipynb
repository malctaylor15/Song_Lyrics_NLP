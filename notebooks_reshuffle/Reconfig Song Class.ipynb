{
 "cells": [
  {
   "cell_type": "code",
   "execution_count": 1,
   "metadata": {},
   "outputs": [],
   "source": [
    "import pickle\n",
    "import requests\n",
    "from bs4 import BeautifulSoup\n",
    "import os \n",
    "import sys \n",
    "%load_ext autoreload\n",
    "%autoreload 2"
   ]
  },
  {
   "cell_type": "code",
   "execution_count": 2,
   "metadata": {},
   "outputs": [],
   "source": [
    "import spotipy\n",
    "from importlib import reload\n",
    "from spotipy.oauth2 import SpotifyClientCredentials\n",
    "import json"
   ]
  },
  {
   "cell_type": "code",
   "execution_count": 3,
   "metadata": {},
   "outputs": [],
   "source": [
    "sys.path.append(os.path.abspath('..'))"
   ]
  },
  {
   "cell_type": "code",
   "execution_count": 4,
   "metadata": {},
   "outputs": [],
   "source": [
    "import scripts.song_class as cls1\n",
    "import scripts.genius_api as genius_api"
   ]
  },
  {
   "cell_type": "code",
   "execution_count": null,
   "metadata": {},
   "outputs": [],
   "source": []
  },
  {
   "cell_type": "code",
   "execution_count": 5,
   "metadata": {},
   "outputs": [],
   "source": [
    "with open(\"../cfg_files/genius_header.pkl\", 'rb') as hnd:\n",
    "    genius_headers = pickle.load(hnd)"
   ]
  },
  {
   "cell_type": "code",
   "execution_count": 6,
   "metadata": {},
   "outputs": [],
   "source": [
    "with open(\"../cfg_files/spotify_credentials.pkl\", \"rb\") as hnd:\n",
    "    spotify_credentials = pickle.load(hnd)"
   ]
  },
  {
   "cell_type": "code",
   "execution_count": null,
   "metadata": {},
   "outputs": [],
   "source": []
  },
  {
   "cell_type": "code",
   "execution_count": 7,
   "metadata": {},
   "outputs": [],
   "source": [
    "client_credentials_manager = SpotifyClientCredentials(client_id=spotify_credentials['SPOTIPY_CLIENT_ID']\n",
    "                                                      , client_secret=spotify_credentials['SPOTIPY_CLIENT_SECRET'])\n",
    "\n",
    "token = client_credentials_manager.get_access_token()\n",
    "sp = spotipy.Spotify(auth=token)"
   ]
  },
  {
   "cell_type": "raw",
   "metadata": {},
   "source": [
    "token"
   ]
  },
  {
   "cell_type": "raw",
   "metadata": {},
   "source": [
    "demo_name = 'Morning'\n",
    "demo_artist = 'Marc E. Bassy'\n",
    "demo_spotify_id = '54Yappwod1fELR5zb2gDBn'\n",
    "\n",
    "# To find spotify id, use desktop browser and then share then copy spotify uri "
   ]
  },
  {
   "cell_type": "code",
   "execution_count": 32,
   "metadata": {},
   "outputs": [],
   "source": [
    "demo_name = 'Coffee'\n",
    "demo_artist = 'Cam Meekins'\n",
    "demo_spotify_id = '06WL8P02gBEdHF3hDDmiHl'"
   ]
  },
  {
   "cell_type": "raw",
   "metadata": {},
   "source": [
    "demo_name = 'OCD'\n",
    "demo_artist = 'Logic'\n",
    "demo_spotify_id = '5AebNkVaY2zcdNFCqPBIV7"
   ]
  },
  {
   "cell_type": "code",
   "execution_count": 33,
   "metadata": {},
   "outputs": [],
   "source": [
    "song1 = cls1.song(demo_name, demo_artist, demo_spotify_id)\n",
    "song1.execute()"
   ]
  },
  {
   "cell_type": "code",
   "execution_count": 34,
   "metadata": {
    "scrolled": true
   },
   "outputs": [
    {
     "data": {
      "text/plain": [
       "'Coffee_Cam Meekins'"
      ]
     },
     "execution_count": 34,
     "metadata": {},
     "output_type": "execute_result"
    }
   ],
   "source": [
    "song1.title_and_artist"
   ]
  },
  {
   "cell_type": "code",
   "execution_count": 35,
   "metadata": {},
   "outputs": [
    {
     "data": {
      "text/plain": [
       "'\\n\\n[Intro]\\nIf you just put water in coffee does it work?\\n\\n[Verse 1]\\nI tell you straight up, I got a real thing for you\\nI saw you with your friends\\nAnd I was like, I dunno what to do\\nWe took a shot at Casamigo\\'s\\nI had to tough it out cause I really hated tequila\\nBut it feel like nothing now\\nBecause this love that I feel, is crazier than crazy\\nSometimes I dunno what I did to get your ass to date me\\nMaybe it was the alcohol, maybe it\\'s just the energy\\nI messaged you six months ago like\\n\"Yo, you wanna be friends with me?\"\\nAnd you curved that shit, but I\\'m persistent and I stuck with it\\nAnd when I met you that night at the bar we kissed within five minutes\\nAnd ooo that shit was sweet\\nSweeter than your coffee that I get you every morning\\nEven tho sometimes you exhaust me, it\\'s in a good way\\nCause we having so much fun\\nWe traveling we on the run girl I swear you the one\\nI often write about the shit that hurts me\\nBut this time I\\'m writing about the shit that works for me\\nYea\\n\\n[Hook]\\nEveryday I get her coffee in the afternoon\\nOnly time we waking up when it\\'s after two\\nLast night we got stoned with nothing to do\\nShe said I got a lotta love and it\\'s just for you\\nAnother day of skipping class cause she hates her school\\nI\\'m always tryna mess it up but she keeps me cool\\nLast night we drank wine with nothing to do\\nShe said I got a lotta love and it\\'s just for you\\n\\n[Verse 2]\\nThe sweetest love is when the past doesn\\'t matter\\nAnd when we young it always ends in disaster\\nBut we from the same neighborhood she live two towns away\\nSo girl if you down today I wanna take you on a date\\nI\\'m on some real shit, whatever I say I mean it\\nWe out in the East Village, cause your apartment you never clean it\\nAnd we getting stoned discussing life\\nSometimes I feel a little lost but when we chillin, everything is alright\\nAnd even though you take up all my closet space\\nAnd you didn\\'t let me bring weed to your mom\\'s place\\nI still love you\\nTaking trips you always pack extra, and I pack too light\\nSo you the yin to my yang\\nAnd when there\\'s darkness you the light\\nI\\'m tryna write you something to show you how I feel\\nIt probably won\\'t do it justice but I still keep it real\\nAnd one thing\\'s for sure, Imma always be true\\nThrough the good times and bad times I\\'m still here for you\\n\\n[Hook]\\n(x2)\\n\\n'"
      ]
     },
     "execution_count": 35,
     "metadata": {},
     "output_type": "execute_result"
    }
   ],
   "source": [
    "song1.raw_lyrics"
   ]
  },
  {
   "cell_type": "code",
   "execution_count": 36,
   "metadata": {},
   "outputs": [
    {
     "data": {
      "text/plain": [
       "{'danceability': 0.589,\n",
       " 'energy': 0.669,\n",
       " 'key': 7,\n",
       " 'loudness': -6.453,\n",
       " 'mode': 1,\n",
       " 'speechiness': 0.413,\n",
       " 'acousticness': 0.171,\n",
       " 'instrumentalness': 0,\n",
       " 'liveness': 0.0787,\n",
       " 'valence': 0.61,\n",
       " 'tempo': 174.705,\n",
       " 'duration_ms': 205871,\n",
       " 'time_signature': 4}"
      ]
     },
     "execution_count": 36,
     "metadata": {},
     "output_type": "execute_result"
    }
   ],
   "source": [
    "song1.audioFeatures"
   ]
  },
  {
   "cell_type": "code",
   "execution_count": 37,
   "metadata": {},
   "outputs": [
    {
     "data": {
      "text/plain": [
       "dict_keys(['danceability', 'energy', 'key', 'loudness', 'mode', 'speechiness', 'acousticness', 'instrumentalness', 'liveness', 'valence', 'tempo', 'duration_ms', 'time_signature'])"
      ]
     },
     "execution_count": 37,
     "metadata": {},
     "output_type": "execute_result"
    }
   ],
   "source": [
    "song1.audioFeatures.keys()"
   ]
  },
  {
   "cell_type": "code",
   "execution_count": 38,
   "metadata": {
    "scrolled": true
   },
   "outputs": [
    {
     "data": {
      "text/plain": [
       "{'title': 'Coffee',\n",
       " 'artist': 'Cam Meekins',\n",
       " 'title_and_artist': 'Coffee_Cam Meekins',\n",
       " 'spotify_id': '06WL8P02gBEdHF3hDDmiHl',\n",
       " 'raw_lyrics': '\\n\\n[Intro]\\nIf you just put water in coffee does it work?\\n\\n[Verse 1]\\nI tell you straight up, I got a real thing for you\\nI saw you with your friends\\nAnd I was like, I dunno what to do\\nWe took a shot at Casamigo\\'s\\nI had to tough it out cause I really hated tequila\\nBut it feel like nothing now\\nBecause this love that I feel, is crazier than crazy\\nSometimes I dunno what I did to get your ass to date me\\nMaybe it was the alcohol, maybe it\\'s just the energy\\nI messaged you six months ago like\\n\"Yo, you wanna be friends with me?\"\\nAnd you curved that shit, but I\\'m persistent and I stuck with it\\nAnd when I met you that night at the bar we kissed within five minutes\\nAnd ooo that shit was sweet\\nSweeter than your coffee that I get you every morning\\nEven tho sometimes you exhaust me, it\\'s in a good way\\nCause we having so much fun\\nWe traveling we on the run girl I swear you the one\\nI often write about the shit that hurts me\\nBut this time I\\'m writing about the shit that works for me\\nYea\\n\\n[Hook]\\nEveryday I get her coffee in the afternoon\\nOnly time we waking up when it\\'s after two\\nLast night we got stoned with nothing to do\\nShe said I got a lotta love and it\\'s just for you\\nAnother day of skipping class cause she hates her school\\nI\\'m always tryna mess it up but she keeps me cool\\nLast night we drank wine with nothing to do\\nShe said I got a lotta love and it\\'s just for you\\n\\n[Verse 2]\\nThe sweetest love is when the past doesn\\'t matter\\nAnd when we young it always ends in disaster\\nBut we from the same neighborhood she live two towns away\\nSo girl if you down today I wanna take you on a date\\nI\\'m on some real shit, whatever I say I mean it\\nWe out in the East Village, cause your apartment you never clean it\\nAnd we getting stoned discussing life\\nSometimes I feel a little lost but when we chillin, everything is alright\\nAnd even though you take up all my closet space\\nAnd you didn\\'t let me bring weed to your mom\\'s place\\nI still love you\\nTaking trips you always pack extra, and I pack too light\\nSo you the yin to my yang\\nAnd when there\\'s darkness you the light\\nI\\'m tryna write you something to show you how I feel\\nIt probably won\\'t do it justice but I still keep it real\\nAnd one thing\\'s for sure, Imma always be true\\nThrough the good times and bad times I\\'m still here for you\\n\\n[Hook]\\n(x2)\\n\\n',\n",
       " 'lyrics': 'intro put water coffee work verse 1 tell straight got real thing saw friend like dunno took shot casamigo tough cause really hated tequila feel like nothing love feel crazier crazy sometimes dunno get as date maybe alcohol maybe energy messaged six month ago like yo wanna friend curved shit persistent stuck met night bar kissed within five minute ooo shit sweet sweeter coffee get every morning even tho sometimes exhaust good way cause much fun traveling run girl swear one often write shit hurt time writing shit work yea hook everyday get coffee afternoon time waking two last night got stoned nothing said got lotta love another day skipping class cause hate school always tryna mess keep cool last night drank wine nothing said got lotta love verse 2 sweetest love past matter young always end disaster neighborhood live two town away girl today wanna take date real shit whatever say mean east village cause apartment never clean getting stoned discussing life sometimes feel little lost chillin everything alright even though take closet space let bring weed mom place still love taking trip always pack extra pack light yin yang darkness light tryna write something show feel probably justice still keep real one thing sure imma always true good time bad time still hook x2',\n",
       " 'word_counts': {'love': 5,\n",
       "  'shit': 5,\n",
       "  'cause': 4,\n",
       "  'always': 4,\n",
       "  'time': 4,\n",
       "  'feel': 4,\n",
       "  'got': 4,\n",
       "  'nothing': 3,\n",
       "  'coffee': 3,\n",
       "  'real': 3,\n",
       "  'sometimes': 3,\n",
       "  'get': 3,\n",
       "  'night': 3,\n",
       "  'still': 3,\n",
       "  'like': 3,\n",
       "  'said': 2,\n",
       "  'even': 2,\n",
       "  'friend': 2,\n",
       "  'dunno': 2,\n",
       "  'stoned': 2,\n",
       "  'good': 2,\n",
       "  'girl': 2,\n",
       "  'date': 2,\n",
       "  'pack': 2,\n",
       "  'one': 2,\n",
       "  'hook': 2,\n",
       "  'keep': 2,\n",
       "  'last': 2,\n",
       "  'light': 2,\n",
       "  'maybe': 2,\n",
       "  'take': 2,\n",
       "  'lotta': 2,\n",
       "  'verse': 2,\n",
       "  'write': 2,\n",
       "  'two': 2,\n",
       "  'wanna': 2,\n",
       "  'tryna': 2,\n",
       "  'work': 2,\n",
       "  'thing': 2,\n",
       "  'life': 1,\n",
       "  'away': 1,\n",
       "  'ago': 1,\n",
       "  'little': 1,\n",
       "  'alcohol': 1,\n",
       "  'bring': 1,\n",
       "  'hate': 1,\n",
       "  'bar': 1,\n",
       "  'hated': 1,\n",
       "  'bad': 1,\n",
       "  'as': 1,\n",
       "  'let': 1,\n",
       "  'apartment': 1,\n",
       "  'hurt': 1,\n",
       "  'casamigo': 1,\n",
       "  'intro': 1,\n",
       "  'justice': 1,\n",
       "  'alright': 1,\n",
       "  'kissed': 1,\n",
       "  'another': 1,\n",
       "  'imma': 1,\n",
       "  'darkness': 1,\n",
       "  'getting': 1,\n",
       "  'crazier': 1,\n",
       "  'day': 1,\n",
       "  'curved': 1,\n",
       "  'disaster': 1,\n",
       "  'discussing': 1,\n",
       "  'drank': 1,\n",
       "  'crazy': 1,\n",
       "  'east': 1,\n",
       "  'end': 1,\n",
       "  'energy': 1,\n",
       "  'live': 1,\n",
       "  'cool': 1,\n",
       "  'fun': 1,\n",
       "  'closet': 1,\n",
       "  'every': 1,\n",
       "  'everyday': 1,\n",
       "  'everything': 1,\n",
       "  'exhaust': 1,\n",
       "  'extra': 1,\n",
       "  'clean': 1,\n",
       "  'class': 1,\n",
       "  'five': 1,\n",
       "  'chillin': 1,\n",
       "  'young': 1,\n",
       "  'month': 1,\n",
       "  'lost': 1,\n",
       "  'matter': 1,\n",
       "  'swear': 1,\n",
       "  'sweet': 1,\n",
       "  'sweeter': 1,\n",
       "  'sweetest': 1,\n",
       "  'taking': 1,\n",
       "  'tell': 1,\n",
       "  'tequila': 1,\n",
       "  'tho': 1,\n",
       "  'though': 1,\n",
       "  'today': 1,\n",
       "  'took': 1,\n",
       "  'tough': 1,\n",
       "  'town': 1,\n",
       "  'traveling': 1,\n",
       "  'trip': 1,\n",
       "  'true': 1,\n",
       "  'village': 1,\n",
       "  'waking': 1,\n",
       "  'water': 1,\n",
       "  'way': 1,\n",
       "  'weed': 1,\n",
       "  'whatever': 1,\n",
       "  'wine': 1,\n",
       "  'within': 1,\n",
       "  'writing': 1,\n",
       "  'x2': 1,\n",
       "  'yang': 1,\n",
       "  'yea': 1,\n",
       "  'yin': 1,\n",
       "  'sure': 1,\n",
       "  'stuck': 1,\n",
       "  'straight': 1,\n",
       "  'past': 1,\n",
       "  'mean': 1,\n",
       "  'mess': 1,\n",
       "  'messaged': 1,\n",
       "  'met': 1,\n",
       "  'minute': 1,\n",
       "  'mom': 1,\n",
       "  'yo': 1,\n",
       "  'morning': 1,\n",
       "  'much': 1,\n",
       "  'neighborhood': 1,\n",
       "  'never': 1,\n",
       "  'often': 1,\n",
       "  'ooo': 1,\n",
       "  'persistent': 1,\n",
       "  'space': 1,\n",
       "  'place': 1,\n",
       "  'probably': 1,\n",
       "  'put': 1,\n",
       "  'really': 1,\n",
       "  'run': 1,\n",
       "  'saw': 1,\n",
       "  'say': 1,\n",
       "  'school': 1,\n",
       "  'shot': 1,\n",
       "  'show': 1,\n",
       "  'six': 1,\n",
       "  'skipping': 1,\n",
       "  'something': 1,\n",
       "  'afternoon': 1},\n",
       " 'danceability': 0.589,\n",
       " 'energy': 0.669,\n",
       " 'key': 7,\n",
       " 'loudness': -6.453,\n",
       " 'mode': 1,\n",
       " 'speechiness': 0.413,\n",
       " 'acousticness': 0.171,\n",
       " 'instrumentalness': 0,\n",
       " 'liveness': 0.0787,\n",
       " 'valence': 0.61,\n",
       " 'tempo': 174.705,\n",
       " 'duration_ms': 205871,\n",
       " 'time_signature': 4,\n",
       " 'polarity': 0.04181951089845828}"
      ]
     },
     "execution_count": 38,
     "metadata": {},
     "output_type": "execute_result"
    }
   ],
   "source": [
    "song1.all_details"
   ]
  },
  {
   "cell_type": "code",
   "execution_count": 39,
   "metadata": {
    "scrolled": true
   },
   "outputs": [],
   "source": [
    "txt1 = json.dumps(song1.all_details)"
   ]
  },
  {
   "cell_type": "code",
   "execution_count": null,
   "metadata": {},
   "outputs": [],
   "source": []
  },
  {
   "cell_type": "code",
   "execution_count": 40,
   "metadata": {},
   "outputs": [],
   "source": [
    "lyrics = song1.raw_lyrics"
   ]
  },
  {
   "cell_type": "code",
   "execution_count": 41,
   "metadata": {
    "scrolled": true
   },
   "outputs": [
    {
     "data": {
      "text/plain": [
       "['',\n",
       " '',\n",
       " '[Intro]',\n",
       " 'If you just put water in coffee does it work?',\n",
       " '',\n",
       " '[Verse 1]',\n",
       " 'I tell you straight up, I got a real thing for you',\n",
       " 'I saw you with your friends',\n",
       " 'And I was like, I dunno what to do',\n",
       " \"We took a shot at Casamigo's\",\n",
       " 'I had to tough it out cause I really hated tequila',\n",
       " 'But it feel like nothing now',\n",
       " 'Because this love that I feel, is crazier than crazy',\n",
       " 'Sometimes I dunno what I did to get your ass to date me',\n",
       " \"Maybe it was the alcohol, maybe it's just the energy\",\n",
       " 'I messaged you six months ago like',\n",
       " '\"Yo, you wanna be friends with me?\"',\n",
       " \"And you curved that shit, but I'm persistent and I stuck with it\",\n",
       " 'And when I met you that night at the bar we kissed within five minutes',\n",
       " 'And ooo that shit was sweet',\n",
       " 'Sweeter than your coffee that I get you every morning',\n",
       " \"Even tho sometimes you exhaust me, it's in a good way\",\n",
       " 'Cause we having so much fun',\n",
       " 'We traveling we on the run girl I swear you the one',\n",
       " 'I often write about the shit that hurts me',\n",
       " \"But this time I'm writing about the shit that works for me\",\n",
       " 'Yea',\n",
       " '',\n",
       " '[Hook]',\n",
       " 'Everyday I get her coffee in the afternoon',\n",
       " \"Only time we waking up when it's after two\",\n",
       " 'Last night we got stoned with nothing to do',\n",
       " \"She said I got a lotta love and it's just for you\",\n",
       " 'Another day of skipping class cause she hates her school',\n",
       " \"I'm always tryna mess it up but she keeps me cool\",\n",
       " 'Last night we drank wine with nothing to do',\n",
       " \"She said I got a lotta love and it's just for you\",\n",
       " '',\n",
       " '[Verse 2]',\n",
       " \"The sweetest love is when the past doesn't matter\",\n",
       " 'And when we young it always ends in disaster',\n",
       " 'But we from the same neighborhood she live two towns away',\n",
       " 'So girl if you down today I wanna take you on a date',\n",
       " \"I'm on some real shit, whatever I say I mean it\",\n",
       " 'We out in the East Village, cause your apartment you never clean it',\n",
       " 'And we getting stoned discussing life',\n",
       " 'Sometimes I feel a little lost but when we chillin, everything is alright',\n",
       " 'And even though you take up all my closet space',\n",
       " \"And you didn't let me bring weed to your mom's place\",\n",
       " 'I still love you',\n",
       " 'Taking trips you always pack extra, and I pack too light',\n",
       " 'So you the yin to my yang',\n",
       " \"And when there's darkness you the light\",\n",
       " \"I'm tryna write you something to show you how I feel\",\n",
       " \"It probably won't do it justice but I still keep it real\",\n",
       " \"And one thing's for sure, Imma always be true\",\n",
       " \"Through the good times and bad times I'm still here for you\",\n",
       " '',\n",
       " '[Hook]',\n",
       " '(x2)',\n",
       " '',\n",
       " '']"
      ]
     },
     "execution_count": 41,
     "metadata": {},
     "output_type": "execute_result"
    }
   ],
   "source": [
    "lyrics.split('\\n')"
   ]
  },
  {
   "cell_type": "markdown",
   "metadata": {},
   "source": [
    "## Insert into DB"
   ]
  },
  {
   "cell_type": "code",
   "execution_count": 42,
   "metadata": {},
   "outputs": [],
   "source": [
    "import sqlite3"
   ]
  },
  {
   "cell_type": "code",
   "execution_count": 43,
   "metadata": {},
   "outputs": [],
   "source": [
    "conn = sqlite3.connect('../checkpoints/songs.db')\n",
    "c = conn.cursor()"
   ]
  },
  {
   "cell_type": "code",
   "execution_count": 44,
   "metadata": {},
   "outputs": [
    {
     "data": {
      "text/plain": [
       "dict_keys(['danceability', 'energy', 'key', 'loudness', 'mode', 'speechiness', 'acousticness', 'instrumentalness', 'liveness', 'valence', 'tempo', 'duration_ms', 'time_signature'])"
      ]
     },
     "execution_count": 44,
     "metadata": {},
     "output_type": "execute_result"
    }
   ],
   "source": [
    "song1.audioFeatures.keys()"
   ]
  },
  {
   "cell_type": "code",
   "execution_count": 45,
   "metadata": {},
   "outputs": [],
   "source": [
    "keys_for_db = ['spotify_id', 'title', 'artist', 'raw_lyrics', 'danceability', 'energy', 'key'\\\n",
    ", 'loudness', 'mode', 'speechiness', 'acousticness', 'instrumentalness'\\\n",
    ", 'liveness', 'valence', 'tempo', 'duration_ms', 'time_signature']"
   ]
  },
  {
   "cell_type": "code",
   "execution_count": 46,
   "metadata": {},
   "outputs": [],
   "source": [
    "data_row = [v for k,v in song1.all_details.items() if k in keys_for_db]"
   ]
  },
  {
   "cell_type": "code",
   "execution_count": null,
   "metadata": {},
   "outputs": [],
   "source": []
  },
  {
   "cell_type": "code",
   "execution_count": 47,
   "metadata": {},
   "outputs": [
    {
     "data": {
      "text/plain": [
       "<sqlite3.Cursor at 0x7f2979b1b6c0>"
      ]
     },
     "execution_count": 47,
     "metadata": {},
     "output_type": "execute_result"
    }
   ],
   "source": [
    "c.execute(\"INSERT INTO songs values (?,?,?,?,?,?,?,?,?,?,?,?,?,?,?,?,?)\", data_row, )"
   ]
  },
  {
   "cell_type": "code",
   "execution_count": 48,
   "metadata": {},
   "outputs": [],
   "source": [
    "x = c.execute(\"select * from songs\")"
   ]
  },
  {
   "cell_type": "code",
   "execution_count": 49,
   "metadata": {},
   "outputs": [
    {
     "name": "stdout",
     "output_type": "stream",
     "text": [
      "<sqlite3.Cursor object at 0x7f2979b1b6c0>\n"
     ]
    }
   ],
   "source": [
    "print(x)"
   ]
  },
  {
   "cell_type": "code",
   "execution_count": 50,
   "metadata": {},
   "outputs": [],
   "source": [
    "conn.commit()"
   ]
  },
  {
   "cell_type": "code",
   "execution_count": null,
   "metadata": {},
   "outputs": [],
   "source": []
  },
  {
   "cell_type": "code",
   "execution_count": 51,
   "metadata": {},
   "outputs": [],
   "source": [
    "conn.close()"
   ]
  },
  {
   "cell_type": "code",
   "execution_count": null,
   "metadata": {},
   "outputs": [],
   "source": []
  }
 ],
 "metadata": {
  "kernelspec": {
   "display_name": "Python 3",
   "language": "python",
   "name": "python3"
  },
  "language_info": {
   "codemirror_mode": {
    "name": "ipython",
    "version": 3
   },
   "file_extension": ".py",
   "mimetype": "text/x-python",
   "name": "python",
   "nbconvert_exporter": "python",
   "pygments_lexer": "ipython3",
   "version": "3.6.4"
  },
  "toc": {
   "base_numbering": 1,
   "nav_menu": {},
   "number_sections": true,
   "sideBar": true,
   "skip_h1_title": false,
   "title_cell": "Table of Contents",
   "title_sidebar": "Contents",
   "toc_cell": false,
   "toc_position": {},
   "toc_section_display": true,
   "toc_window_display": false
  }
 },
 "nbformat": 4,
 "nbformat_minor": 2
}
