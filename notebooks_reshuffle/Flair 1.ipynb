{
 "cells": [
  {
   "cell_type": "code",
   "execution_count": 2,
   "metadata": {
    "scrolled": true
   },
   "outputs": [],
   "source": [
    "from flair.embeddings import FlairEmbeddings, BertEmbeddings\n",
    "\n",
    "# init Flair embeddings\n",
    "flair_forward_embedding = FlairEmbeddings('multi-forward')\n",
    "flair_backward_embedding = FlairEmbeddings('multi-backward')\n",
    "\n",
    "# init multilingual BERT\n",
    "bert_embedding = BertEmbeddings('bert-base-multilingual-cased')"
   ]
  },
  {
   "cell_type": "code",
   "execution_count": 3,
   "metadata": {},
   "outputs": [],
   "source": [
    "import csv"
   ]
  },
  {
   "cell_type": "code",
   "execution_count": 4,
   "metadata": {},
   "outputs": [],
   "source": [
    "with open('../data_checkpoints/all_lyrics/HIGHEST_IN_THE_ROOM_Travis_Scott.csv' , 'r') as hnd:\n",
    "    reader = csv.reader(hnd)\n",
    "    data = list(reader)[0][0]"
   ]
  },
  {
   "cell_type": "code",
   "execution_count": 5,
   "metadata": {},
   "outputs": [],
   "source": [
    "data2 = data.split('\\n')"
   ]
  },
  {
   "cell_type": "code",
   "execution_count": null,
   "metadata": {},
   "outputs": [],
   "source": []
  },
  {
   "cell_type": "code",
   "execution_count": 6,
   "metadata": {},
   "outputs": [
    {
     "data": {
      "text/plain": [
       "'I got room in my fumes '"
      ]
     },
     "execution_count": 6,
     "metadata": {},
     "output_type": "execute_result"
    }
   ],
   "source": [
    "temp = data2[3]\n",
    "temp"
   ]
  },
  {
   "cell_type": "code",
   "execution_count": 10,
   "metadata": {},
   "outputs": [],
   "source": [
    "from flair.data import Sentence"
   ]
  },
  {
   "cell_type": "code",
   "execution_count": 8,
   "metadata": {},
   "outputs": [
    {
     "name": "stdout",
     "output_type": "stream",
     "text": [
      "Token: 1 I\n",
      "tensor([ 0.2009, -0.5727,  0.0585,  ...,  1.1901, -0.5348,  0.3259])\n",
      "Token: 2 got\n",
      "tensor([-0.1863, -0.8156, -0.7346,  ...,  0.1967,  0.0100,  0.5733])\n",
      "Token: 3 room\n",
      "tensor([-0.5016, -0.6988,  0.0023,  ...,  1.5960,  0.0045,  0.5718])\n",
      "Token: 4 in\n",
      "tensor([-0.3234, -0.4411, -0.3323,  ...,  0.4945,  0.2922,  0.5564])\n",
      "Token: 5 my\n",
      "tensor([ 0.3968, -0.3097, -0.6746,  ..., -0.3835,  0.9711,  0.7419])\n",
      "Token: 6 fumes\n",
      "tensor([-0.2961, -0.3365, -0.7836,  ...,  0.9433,  0.4674,  0.5695])\n"
     ]
    }
   ],
   "source": [
    "sentence = Sentence(temp)\n",
    "bert_embedding.embed(sentence)\n",
    "\n",
    "# now check out the embedded tokens.\n",
    "for token in sentence:\n",
    "    print(token)\n",
    "    print(token.embedding)\n"
   ]
  },
  {
   "cell_type": "code",
   "execution_count": 11,
   "metadata": {},
   "outputs": [],
   "source": [
    "l1 = list(sentence[3].embedding)"
   ]
  },
  {
   "cell_type": "code",
   "execution_count": 12,
   "metadata": {},
   "outputs": [
    {
     "data": {
      "text/plain": [
       "[tensor(-0.3234),\n",
       " tensor(-0.4411),\n",
       " tensor(-0.3323),\n",
       " tensor(-0.3030),\n",
       " tensor(0.2903),\n",
       " tensor(-0.1127),\n",
       " tensor(-1.3898),\n",
       " tensor(0.0689),\n",
       " tensor(-0.7048),\n",
       " tensor(0.3776)]"
      ]
     },
     "execution_count": 12,
     "metadata": {},
     "output_type": "execute_result"
    }
   ],
   "source": [
    "l1[:10]"
   ]
  },
  {
   "cell_type": "code",
   "execution_count": null,
   "metadata": {},
   "outputs": [],
   "source": []
  }
 ],
 "metadata": {
  "kernelspec": {
   "display_name": "Python 3",
   "language": "python",
   "name": "python3"
  },
  "language_info": {
   "codemirror_mode": {
    "name": "ipython",
    "version": 3
   },
   "file_extension": ".py",
   "mimetype": "text/x-python",
   "name": "python",
   "nbconvert_exporter": "python",
   "pygments_lexer": "ipython3",
   "version": "3.6.4"
  },
  "toc": {
   "base_numbering": 1,
   "nav_menu": {},
   "number_sections": true,
   "sideBar": true,
   "skip_h1_title": false,
   "title_cell": "Table of Contents",
   "title_sidebar": "Contents",
   "toc_cell": false,
   "toc_position": {},
   "toc_section_display": true,
   "toc_window_display": false
  }
 },
 "nbformat": 4,
 "nbformat_minor": 2
}
