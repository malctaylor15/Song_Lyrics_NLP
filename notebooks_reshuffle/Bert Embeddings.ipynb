{
 "cells": [
  {
   "cell_type": "code",
   "execution_count": 1,
   "metadata": {},
   "outputs": [],
   "source": [
    "import json\n",
    "from ast import literal_eval"
   ]
  },
  {
   "cell_type": "code",
   "execution_count": null,
   "metadata": {},
   "outputs": [],
   "source": []
  },
  {
   "cell_type": "code",
   "execution_count": 2,
   "metadata": {},
   "outputs": [],
   "source": [
    "with open('../data_checkpoints/embeds/HIGHEST_IN_THE_ROOM_Travis_Scott.jsonl', 'r') as hnd:\n",
    "    embeds_raw_str = hnd.read()"
   ]
  },
  {
   "cell_type": "code",
   "execution_count": 3,
   "metadata": {},
   "outputs": [],
   "source": [
    "embed_list = embeds_raw_str.split('\\n')"
   ]
  },
  {
   "cell_type": "code",
   "execution_count": null,
   "metadata": {},
   "outputs": [],
   "source": [
    "\n",
    "for sent_embed in embed_list:\n",
    "    temp_embed = literal_eval(sent_embed)\n",
    "    "
   ]
  },
  {
   "cell_type": "code",
   "execution_count": 51,
   "metadata": {},
   "outputs": [],
   "source": [
    "embed1 = literal_eval(embed_list[16])"
   ]
  },
  {
   "cell_type": "code",
   "execution_count": 52,
   "metadata": {},
   "outputs": [
    {
     "data": {
      "text/plain": [
       "dict_keys(['linex_index', 'features'])"
      ]
     },
     "execution_count": 52,
     "metadata": {},
     "output_type": "execute_result"
    }
   ],
   "source": [
    "embed1.keys()"
   ]
  },
  {
   "cell_type": "code",
   "execution_count": 53,
   "metadata": {},
   "outputs": [],
   "source": [
    "def understand_dict(d1, level):\n",
    "    n_spaces = level*4 * ' ' \n",
    "    print(n_spaces , d1.keys())\n",
    "    for k, v in d1.items():\n",
    "        if type(v) == dict:\n",
    "            print(n_spaces , k, \" is a dict\")\n",
    "            level = level +1\n",
    "            understand_dict(v, level)\n",
    "        elif type(v) == list:\n",
    "            print(n_spaces , k, \" is a list\")\n",
    "            print(n_spaces , len(v), \" items in dict\")\n",
    "            if type(v[0]) == dict:\n",
    "                print(n_spaces , 'First value is.. .')\n",
    "                level = level +1\n",
    "                understand_dict(v[0], level)\n",
    "        else:\n",
    "            print(n_spaces , k, \" is of type: \", type(v))\n",
    "            if type(v) in (int, str):\n",
    "                print(n_spaces, k, '\\'s value is ' + str(v))\n",
    "    "
   ]
  },
  {
   "cell_type": "code",
   "execution_count": 54,
   "metadata": {},
   "outputs": [
    {
     "name": "stdout",
     "output_type": "stream",
     "text": [
      " dict_keys(['linex_index', 'features'])\n",
      " linex_index  is of type:  <class 'int'>\n",
      " linex_index 's value is 16\n",
      " features  is a list\n",
      " 8  items in dict\n",
      " First value is.. .\n",
      "     dict_keys(['token', 'layers'])\n",
      "     token  is of type:  <class 'str'>\n",
      "     token 's value is [CLS]\n",
      "     layers  is a list\n",
      "     4  items in dict\n",
      "     First value is.. .\n",
      "         dict_keys(['index', 'values'])\n",
      "         index  is of type:  <class 'int'>\n",
      "         index 's value is -1\n",
      "         values  is a list\n",
      "         1024  items in dict\n"
     ]
    }
   ],
   "source": [
    "understand_dict(embed1,0)"
   ]
  },
  {
   "cell_type": "code",
   "execution_count": 55,
   "metadata": {},
   "outputs": [
    {
     "name": "stdout",
     "output_type": "stream",
     "text": [
      " dict_keys(['linex_index', 'features'])\n",
      " linex_index  is of type:  <class 'int'>\n",
      " linex_index 's value is 16\n",
      " features  is a list\n",
      " 8  items in dict\n",
      " First value is.. .\n",
      "     dict_keys(['token', 'layers'])\n",
      "     token  is of type:  <class 'str'>\n",
      "     token 's value is [CLS]\n",
      "     layers  is a list\n",
      "     4  items in dict\n",
      "     First value is.. .\n",
      "         dict_keys(['index', 'values'])\n",
      "         index  is of type:  <class 'int'>\n",
      "         index 's value is -1\n",
      "         values  is a list\n",
      "         1024  items in dict\n"
     ]
    }
   ],
   "source": [
    "understand_dict(embed1,0)"
   ]
  },
  {
   "cell_type": "code",
   "execution_count": 44,
   "metadata": {},
   "outputs": [
    {
     "data": {
      "text/plain": [
       "2"
      ]
     },
     "execution_count": 44,
     "metadata": {},
     "output_type": "execute_result"
    }
   ],
   "source": [
    "len(embed1['features'])"
   ]
  },
  {
   "cell_type": "code",
   "execution_count": 45,
   "metadata": {},
   "outputs": [
    {
     "data": {
      "text/plain": [
       "dict_keys(['token', 'layers'])"
      ]
     },
     "execution_count": 45,
     "metadata": {},
     "output_type": "execute_result"
    }
   ],
   "source": [
    "embed1['features'][0].keys()"
   ]
  },
  {
   "cell_type": "code",
   "execution_count": 46,
   "metadata": {},
   "outputs": [
    {
     "data": {
      "text/plain": [
       "dict_keys(['token', 'layers'])"
      ]
     },
     "execution_count": 46,
     "metadata": {},
     "output_type": "execute_result"
    }
   ],
   "source": [
    "embed1['features'][1].keys()"
   ]
  },
  {
   "cell_type": "code",
   "execution_count": 15,
   "metadata": {},
   "outputs": [
    {
     "data": {
      "text/plain": [
       "4"
      ]
     },
     "execution_count": 15,
     "metadata": {},
     "output_type": "execute_result"
    }
   ],
   "source": [
    "len(embed1['features'][0]['layers'])"
   ]
  },
  {
   "cell_type": "code",
   "execution_count": 16,
   "metadata": {},
   "outputs": [
    {
     "data": {
      "text/plain": [
       "dict_keys(['index', 'values'])"
      ]
     },
     "execution_count": 16,
     "metadata": {},
     "output_type": "execute_result"
    }
   ],
   "source": [
    "embed1['features'][0]['layers'][0].keys()"
   ]
  },
  {
   "cell_type": "code",
   "execution_count": 17,
   "metadata": {},
   "outputs": [
    {
     "data": {
      "text/plain": [
       "1024"
      ]
     },
     "execution_count": 17,
     "metadata": {},
     "output_type": "execute_result"
    }
   ],
   "source": [
    "len(embed1['features'][0]['layers'][0]['values'])"
   ]
  },
  {
   "cell_type": "code",
   "execution_count": 20,
   "metadata": {},
   "outputs": [],
   "source": [
    "all_embeds = []\n",
    "for layer in embed1['features'][1]['layers']:\n",
    "    all_embeds.extend(layer['values'])"
   ]
  },
  {
   "cell_type": "code",
   "execution_count": 21,
   "metadata": {},
   "outputs": [
    {
     "data": {
      "text/plain": [
       "4096"
      ]
     },
     "execution_count": 21,
     "metadata": {},
     "output_type": "execute_result"
    }
   ],
   "source": [
    "len(all_embeds)"
   ]
  },
  {
   "cell_type": "code",
   "execution_count": 24,
   "metadata": {},
   "outputs": [
    {
     "data": {
      "text/plain": [
       "[-0.837459,\n",
       " 0.085298,\n",
       " -0.172554,\n",
       " -0.249771,\n",
       " -0.2799,\n",
       " 0.848541,\n",
       " 0.442811,\n",
       " 0.766587,\n",
       " -0.142514,\n",
       " 0.358638]"
      ]
     },
     "execution_count": 24,
     "metadata": {},
     "output_type": "execute_result"
    }
   ],
   "source": [
    "all_embeds[-10:]"
   ]
  },
  {
   "cell_type": "code",
   "execution_count": null,
   "metadata": {},
   "outputs": [],
   "source": []
  }
 ],
 "metadata": {
  "kernelspec": {
   "display_name": "Python 3",
   "language": "python",
   "name": "python3"
  },
  "language_info": {
   "codemirror_mode": {
    "name": "ipython",
    "version": 3
   },
   "file_extension": ".py",
   "mimetype": "text/x-python",
   "name": "python",
   "nbconvert_exporter": "python",
   "pygments_lexer": "ipython3",
   "version": "3.6.4"
  },
  "toc": {
   "base_numbering": 1,
   "nav_menu": {},
   "number_sections": true,
   "sideBar": true,
   "skip_h1_title": false,
   "title_cell": "Table of Contents",
   "title_sidebar": "Contents",
   "toc_cell": false,
   "toc_position": {},
   "toc_section_display": true,
   "toc_window_display": false
  }
 },
 "nbformat": 4,
 "nbformat_minor": 2
}
