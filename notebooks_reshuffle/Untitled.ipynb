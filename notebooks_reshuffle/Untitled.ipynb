{
 "cells": [
  {
   "cell_type": "markdown",
   "metadata": {},
   "source": [
    "## Create Database for previously found songs"
   ]
  },
  {
   "cell_type": "code",
   "execution_count": 3,
   "metadata": {},
   "outputs": [],
   "source": [
    "import pickle\n",
    "import os\n",
    "import sys\n",
    "import pandas\n",
    "import datetime\n"
   ]
  },
  {
   "cell_type": "code",
   "execution_count": 14,
   "metadata": {},
   "outputs": [],
   "source": [
    "import song_class\n",
    "from collections import Counter"
   ]
  },
  {
   "cell_type": "code",
   "execution_count": 4,
   "metadata": {},
   "outputs": [],
   "source": [
    "os.chdir('..')"
   ]
  },
  {
   "cell_type": "code",
   "execution_count": 5,
   "metadata": {},
   "outputs": [
    {
     "name": "stdout",
     "output_type": "stream",
     "text": [
      "/home/owner/Documents/Github_projects/Song_Lyrics_NLP\r\n"
     ]
    }
   ],
   "source": [
    "!pwd"
   ]
  },
  {
   "cell_type": "code",
   "execution_count": 7,
   "metadata": {},
   "outputs": [
    {
     "name": "stdout",
     "output_type": "stream",
     "text": [
      "all_tracks_all.pkl\r\n",
      "credentials.pkl\r\n",
      "Discover Weekly Archive.pkl\r\n",
      "Long Playlist.pkl\r\n"
     ]
    }
   ],
   "source": [
    "!ls | grep .pkl"
   ]
  },
  {
   "cell_type": "code",
   "execution_count": 8,
   "metadata": {},
   "outputs": [],
   "source": [
    "with open('all_tracks_all.pkl', 'rb') as hnd:\n",
    "    all_tracks = pickle.load(hnd)\n"
   ]
  },
  {
   "cell_type": "code",
   "execution_count": 15,
   "metadata": {},
   "outputs": [],
   "source": [
    "def explore_pickle(new_thing):\n",
    "    print(\"Type: \", type(new_thing))\n",
    "    \n",
    "    if type(new_thing) == list:\n",
    "        print(\"Number of items in list: \", len(new_thing))\n",
    "        types = [type(x) for x in new_thing]\n",
    "        print(\"Type of first thing: \", Counter(types))\n",
    "    "
   ]
  },
  {
   "cell_type": "code",
   "execution_count": 16,
   "metadata": {},
   "outputs": [
    {
     "name": "stdout",
     "output_type": "stream",
     "text": [
      "Type:  <class 'list'>\n",
      "Number of items in list:  300\n",
      "Type of first thing:  Counter({<class 'song_class.song'>: 300})\n"
     ]
    }
   ],
   "source": [
    "explore_pickle(all_tracks)"
   ]
  },
  {
   "cell_type": "code",
   "execution_count": 19,
   "metadata": {},
   "outputs": [],
   "source": [
    "d1 = all_tracks[0]"
   ]
  },
  {
   "cell_type": "code",
   "execution_count": 17,
   "metadata": {
    "scrolled": true
   },
   "outputs": [
    {
     "data": {
      "text/plain": [
       "['__class__',\n",
       " '__delattr__',\n",
       " '__dict__',\n",
       " '__dir__',\n",
       " '__doc__',\n",
       " '__eq__',\n",
       " '__format__',\n",
       " '__ge__',\n",
       " '__getattribute__',\n",
       " '__gt__',\n",
       " '__hash__',\n",
       " '__init__',\n",
       " '__init_subclass__',\n",
       " '__le__',\n",
       " '__lt__',\n",
       " '__module__',\n",
       " '__ne__',\n",
       " '__new__',\n",
       " '__reduce__',\n",
       " '__reduce_ex__',\n",
       " '__repr__',\n",
       " '__setattr__',\n",
       " '__sizeof__',\n",
       " '__str__',\n",
       " '__subclasshook__',\n",
       " '__weakref__',\n",
       " 'artist',\n",
       " 'audioFeatures',\n",
       " 'blob',\n",
       " 'getNouns',\n",
       " 'getSentiment',\n",
       " 'getTags',\n",
       " 'getWordCounts',\n",
       " 'lyrics',\n",
       " 'showWordCloud',\n",
       " 'title']"
      ]
     },
     "execution_count": 17,
     "metadata": {},
     "output_type": "execute_result"
    }
   ],
   "source": [
    "dir(all_tracks[0])"
   ]
  },
  {
   "cell_type": "code",
   "execution_count": 20,
   "metadata": {},
   "outputs": [],
   "source": [
    "feats= ['artist',\n",
    " 'audioFeatures',\n",
    " 'blob',\n",
    " 'getNouns',\n",
    " 'getSentiment',\n",
    " 'getTags',\n",
    " 'getWordCounts',\n",
    " 'lyrics',\n",
    " 'showWordCloud',\n",
    " 'title']"
   ]
  },
  {
   "cell_type": "code",
   "execution_count": 28,
   "metadata": {},
   "outputs": [
    {
     "name": "stdout",
     "output_type": "stream",
     "text": [
      "artist : ZHU\n",
      "\n",
      "\n",
      "audioFeatures : {'danceability': 0.776, 'energy': 0.715, 'key': 5, 'loudness': -6.587, 'mode': 0, 'speechiness': 0.0505, 'acousticness': 0.0971, 'instrumentalness': 0.0131, 'liveness': 0.247, 'valence': 0.502, 'tempo': 99.951, 'type': 'audio_features', 'id': '0P6RjFd2HgG2AXJadQuGfE', 'uri': 'spotify:track:0P6RjFd2HgG2AXJadQuGfE', 'track_href': 'https://api.spotify.com/v1/tracks/0P6RjFd2HgG2AXJadQuGfE', 'analysis_url': 'https://api.spotify.com/v1/audio-analysis/0P6RjFd2HgG2AXJadQuGfE', 'duration_ms': 231813, 'time_signature': 4}\n",
      "\n",
      "\n",
      "blob : tracklist click link lyric 1 intro neon city 2 cold blooded ft jaymes young 3 morning 4 secret weapon ft nylo 5 electrify 6 numb 7 palm hand ft valentine baran 8 money 9 one minute midnight 10 reaching ft nikola bedingfield 11 hometown girl ft jaymes young 12 good life ft adam schmalholz brood 13 generationwhy 14 working bonus track skrillex album artwork morning artwork generationwhy artwork palm hand artwork\n",
      "\n",
      "\n",
      "lyrics : tracklist click link lyric 1 intro neon city 2 cold blooded ft jaymes young 3 morning 4 secret weapon ft nylo 5 electrify 6 numb 7 palm hand ft valentine baran 8 money 9 one minute midnight 10 reaching ft nikola bedingfield 11 hometown girl ft jaymes young 12 good life ft adam schmalholz brood 13 generationwhy 14 working bonus track skrillex album artwork morning artwork generationwhy artwork palm hand artwork\n",
      "\n",
      "\n",
      "title : Working For It - Bonus Track\n",
      "\n",
      "\n"
     ]
    }
   ],
   "source": [
    "for f in feats:\n",
    "    if ('get' not in f) and ('WordCloud' not in f):\n",
    "        print(f, \":\", getattr(d1, f))\n",
    "        print('\\n')"
   ]
  },
  {
   "cell_type": "code",
   "execution_count": 18,
   "metadata": {},
   "outputs": [],
   "source": [
    "all_tracks[0].showWordCloud()"
   ]
  },
  {
   "cell_type": "code",
   "execution_count": 29,
   "metadata": {},
   "outputs": [
    {
     "data": {
      "text/plain": [
       "True"
      ]
     },
     "execution_count": 29,
     "metadata": {},
     "output_type": "execute_result"
    }
   ],
   "source": [
    "d1.blob == d1.lyrics"
   ]
  }
 ],
 "metadata": {
  "kernelspec": {
   "display_name": "Python 3",
   "language": "python",
   "name": "python3"
  },
  "language_info": {
   "codemirror_mode": {
    "name": "ipython",
    "version": 3
   },
   "file_extension": ".py",
   "mimetype": "text/x-python",
   "name": "python",
   "nbconvert_exporter": "python",
   "pygments_lexer": "ipython3",
   "version": "3.6.4"
  },
  "toc": {
   "base_numbering": 1,
   "nav_menu": {},
   "number_sections": true,
   "sideBar": true,
   "skip_h1_title": false,
   "title_cell": "Table of Contents",
   "title_sidebar": "Contents",
   "toc_cell": false,
   "toc_position": {},
   "toc_section_display": true,
   "toc_window_display": false
  }
 },
 "nbformat": 4,
 "nbformat_minor": 2
}
